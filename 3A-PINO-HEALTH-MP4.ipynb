{
  "nbformat": 4,
  "nbformat_minor": 0,
  "metadata": {
    "colab": {
      "provenance": []
    },
    "kernelspec": {
      "name": "python3",
      "display_name": "Python 3"
    },
    "language_info": {
      "name": "python"
    }
  },
  "cells": [
    {
      "cell_type": "markdown",
      "source": [
        "# **Machine Problem: Bayesian Network for Healthcare Diagnosis**\n",
        "\n"
      ],
      "metadata": {
        "id": "59XdBBOU7Ut8"
      }
    },
    {
      "cell_type": "markdown",
      "source": [
        "# **Exercise 1: Setting Up the Environment**\n",
        "**1. Install Libraries**"
      ],
      "metadata": {
        "id": "uSEiJmCT8WbW"
      }
    },
    {
      "cell_type": "code",
      "execution_count": null,
      "metadata": {
        "colab": {
          "base_uri": "https://localhost:8080/"
        },
        "id": "vrr0gVZB7Ni0",
        "outputId": "8e7bef8d-4eee-47d2-cb7f-8d7760ad6f51"
      },
      "outputs": [
        {
          "output_type": "stream",
          "name": "stdout",
          "text": [
            "Requirement already satisfied: pgmpy in /usr/local/lib/python3.10/dist-packages (0.1.26)\n",
            "Requirement already satisfied: networkx in /usr/local/lib/python3.10/dist-packages (from pgmpy) (3.3)\n",
            "Requirement already satisfied: numpy in /usr/local/lib/python3.10/dist-packages (from pgmpy) (1.26.4)\n",
            "Requirement already satisfied: scipy in /usr/local/lib/python3.10/dist-packages (from pgmpy) (1.13.1)\n",
            "Requirement already satisfied: scikit-learn in /usr/local/lib/python3.10/dist-packages (from pgmpy) (1.5.2)\n",
            "Requirement already satisfied: pandas in /usr/local/lib/python3.10/dist-packages (from pgmpy) (2.2.2)\n",
            "Requirement already satisfied: pyparsing in /usr/local/lib/python3.10/dist-packages (from pgmpy) (3.1.4)\n",
            "Requirement already satisfied: torch in /usr/local/lib/python3.10/dist-packages (from pgmpy) (2.4.1+cu121)\n",
            "Requirement already satisfied: statsmodels in /usr/local/lib/python3.10/dist-packages (from pgmpy) (0.14.4)\n",
            "Requirement already satisfied: tqdm in /usr/local/lib/python3.10/dist-packages (from pgmpy) (4.66.5)\n",
            "Requirement already satisfied: joblib in /usr/local/lib/python3.10/dist-packages (from pgmpy) (1.4.2)\n",
            "Requirement already satisfied: opt-einsum in /usr/local/lib/python3.10/dist-packages (from pgmpy) (3.4.0)\n",
            "Requirement already satisfied: xgboost in /usr/local/lib/python3.10/dist-packages (from pgmpy) (2.1.1)\n",
            "Requirement already satisfied: google-generativeai in /usr/local/lib/python3.10/dist-packages (from pgmpy) (0.7.2)\n",
            "Requirement already satisfied: google-ai-generativelanguage==0.6.6 in /usr/local/lib/python3.10/dist-packages (from google-generativeai->pgmpy) (0.6.6)\n",
            "Requirement already satisfied: google-api-core in /usr/local/lib/python3.10/dist-packages (from google-generativeai->pgmpy) (2.19.2)\n",
            "Requirement already satisfied: google-api-python-client in /usr/local/lib/python3.10/dist-packages (from google-generativeai->pgmpy) (2.137.0)\n",
            "Requirement already satisfied: google-auth>=2.15.0 in /usr/local/lib/python3.10/dist-packages (from google-generativeai->pgmpy) (2.27.0)\n",
            "Requirement already satisfied: protobuf in /usr/local/lib/python3.10/dist-packages (from google-generativeai->pgmpy) (3.20.3)\n",
            "Requirement already satisfied: pydantic in /usr/local/lib/python3.10/dist-packages (from google-generativeai->pgmpy) (2.9.2)\n",
            "Requirement already satisfied: typing-extensions in /usr/local/lib/python3.10/dist-packages (from google-generativeai->pgmpy) (4.12.2)\n",
            "Requirement already satisfied: proto-plus<2.0.0dev,>=1.22.3 in /usr/local/lib/python3.10/dist-packages (from google-ai-generativelanguage==0.6.6->google-generativeai->pgmpy) (1.24.0)\n",
            "Requirement already satisfied: python-dateutil>=2.8.2 in /usr/local/lib/python3.10/dist-packages (from pandas->pgmpy) (2.8.2)\n",
            "Requirement already satisfied: pytz>=2020.1 in /usr/local/lib/python3.10/dist-packages (from pandas->pgmpy) (2024.2)\n",
            "Requirement already satisfied: tzdata>=2022.7 in /usr/local/lib/python3.10/dist-packages (from pandas->pgmpy) (2024.2)\n",
            "Requirement already satisfied: threadpoolctl>=3.1.0 in /usr/local/lib/python3.10/dist-packages (from scikit-learn->pgmpy) (3.5.0)\n",
            "Requirement already satisfied: patsy>=0.5.6 in /usr/local/lib/python3.10/dist-packages (from statsmodels->pgmpy) (0.5.6)\n",
            "Requirement already satisfied: packaging>=21.3 in /usr/local/lib/python3.10/dist-packages (from statsmodels->pgmpy) (24.1)\n",
            "Requirement already satisfied: filelock in /usr/local/lib/python3.10/dist-packages (from torch->pgmpy) (3.16.1)\n",
            "Requirement already satisfied: sympy in /usr/local/lib/python3.10/dist-packages (from torch->pgmpy) (1.13.3)\n",
            "Requirement already satisfied: jinja2 in /usr/local/lib/python3.10/dist-packages (from torch->pgmpy) (3.1.4)\n",
            "Requirement already satisfied: fsspec in /usr/local/lib/python3.10/dist-packages (from torch->pgmpy) (2024.6.1)\n",
            "Requirement already satisfied: nvidia-nccl-cu12 in /usr/local/lib/python3.10/dist-packages (from xgboost->pgmpy) (2.23.4)\n",
            "Requirement already satisfied: googleapis-common-protos<2.0.dev0,>=1.56.2 in /usr/local/lib/python3.10/dist-packages (from google-api-core->google-generativeai->pgmpy) (1.65.0)\n",
            "Requirement already satisfied: requests<3.0.0.dev0,>=2.18.0 in /usr/local/lib/python3.10/dist-packages (from google-api-core->google-generativeai->pgmpy) (2.32.3)\n",
            "Requirement already satisfied: cachetools<6.0,>=2.0.0 in /usr/local/lib/python3.10/dist-packages (from google-auth>=2.15.0->google-generativeai->pgmpy) (5.5.0)\n",
            "Requirement already satisfied: pyasn1-modules>=0.2.1 in /usr/local/lib/python3.10/dist-packages (from google-auth>=2.15.0->google-generativeai->pgmpy) (0.4.1)\n",
            "Requirement already satisfied: rsa<5,>=3.1.4 in /usr/local/lib/python3.10/dist-packages (from google-auth>=2.15.0->google-generativeai->pgmpy) (4.9)\n",
            "Requirement already satisfied: six in /usr/local/lib/python3.10/dist-packages (from patsy>=0.5.6->statsmodels->pgmpy) (1.16.0)\n",
            "Requirement already satisfied: httplib2<1.dev0,>=0.19.0 in /usr/local/lib/python3.10/dist-packages (from google-api-python-client->google-generativeai->pgmpy) (0.22.0)\n",
            "Requirement already satisfied: google-auth-httplib2<1.0.0,>=0.2.0 in /usr/local/lib/python3.10/dist-packages (from google-api-python-client->google-generativeai->pgmpy) (0.2.0)\n",
            "Requirement already satisfied: uritemplate<5,>=3.0.1 in /usr/local/lib/python3.10/dist-packages (from google-api-python-client->google-generativeai->pgmpy) (4.1.1)\n",
            "Requirement already satisfied: MarkupSafe>=2.0 in /usr/local/lib/python3.10/dist-packages (from jinja2->torch->pgmpy) (2.1.5)\n",
            "Requirement already satisfied: annotated-types>=0.6.0 in /usr/local/lib/python3.10/dist-packages (from pydantic->google-generativeai->pgmpy) (0.7.0)\n",
            "Requirement already satisfied: pydantic-core==2.23.4 in /usr/local/lib/python3.10/dist-packages (from pydantic->google-generativeai->pgmpy) (2.23.4)\n",
            "Requirement already satisfied: mpmath<1.4,>=1.1.0 in /usr/local/lib/python3.10/dist-packages (from sympy->torch->pgmpy) (1.3.0)\n",
            "Requirement already satisfied: grpcio<2.0dev,>=1.33.2 in /usr/local/lib/python3.10/dist-packages (from google-api-core[grpc]!=2.0.*,!=2.1.*,!=2.10.*,!=2.2.*,!=2.3.*,!=2.4.*,!=2.5.*,!=2.6.*,!=2.7.*,!=2.8.*,!=2.9.*,<3.0.0dev,>=1.34.1->google-ai-generativelanguage==0.6.6->google-generativeai->pgmpy) (1.64.1)\n",
            "Requirement already satisfied: grpcio-status<2.0.dev0,>=1.33.2 in /usr/local/lib/python3.10/dist-packages (from google-api-core[grpc]!=2.0.*,!=2.1.*,!=2.10.*,!=2.2.*,!=2.3.*,!=2.4.*,!=2.5.*,!=2.6.*,!=2.7.*,!=2.8.*,!=2.9.*,<3.0.0dev,>=1.34.1->google-ai-generativelanguage==0.6.6->google-generativeai->pgmpy) (1.48.2)\n",
            "Requirement already satisfied: pyasn1<0.7.0,>=0.4.6 in /usr/local/lib/python3.10/dist-packages (from pyasn1-modules>=0.2.1->google-auth>=2.15.0->google-generativeai->pgmpy) (0.6.1)\n",
            "Requirement already satisfied: charset-normalizer<4,>=2 in /usr/local/lib/python3.10/dist-packages (from requests<3.0.0.dev0,>=2.18.0->google-api-core->google-generativeai->pgmpy) (3.3.2)\n",
            "Requirement already satisfied: idna<4,>=2.5 in /usr/local/lib/python3.10/dist-packages (from requests<3.0.0.dev0,>=2.18.0->google-api-core->google-generativeai->pgmpy) (3.10)\n",
            "Requirement already satisfied: urllib3<3,>=1.21.1 in /usr/local/lib/python3.10/dist-packages (from requests<3.0.0.dev0,>=2.18.0->google-api-core->google-generativeai->pgmpy) (2.2.3)\n",
            "Requirement already satisfied: certifi>=2017.4.17 in /usr/local/lib/python3.10/dist-packages (from requests<3.0.0.dev0,>=2.18.0->google-api-core->google-generativeai->pgmpy) (2024.8.30)\n"
          ]
        }
      ],
      "source": [
        "!pip install pgmpy"
      ]
    },
    {
      "cell_type": "markdown",
      "source": [
        "**2. Import Libraries**"
      ],
      "metadata": {
        "id": "63LmrmF_8gC3"
      }
    },
    {
      "cell_type": "code",
      "source": [
        "import pandas as pd\n",
        "import networkx as nx\n",
        "import matplotlib.pyplot as plt\n",
        "from pgmpy.models import BayesianNetwork\n",
        "from pgmpy.factors.discrete import TabularCPD\n",
        "from pgmpy.inference import VariableElimination"
      ],
      "metadata": {
        "id": "pL-uhJye8kUU"
      },
      "execution_count": null,
      "outputs": []
    },
    {
      "cell_type": "markdown",
      "source": [
        "# **Exercise 2: Define the Bayesian Network Structure**\n",
        "**1. Define the Variables**"
      ],
      "metadata": {
        "id": "-fLXLlnV8uEi"
      }
    },
    {
      "cell_type": "code",
      "source": [
        "model = BayesianNetwork([\n",
        "    ('Age', 'HeartDisease'),\n",
        "    ('Smoking', 'HeartDisease'),\n",
        "    ('Exercise', 'HeartDisease'),\n",
        "    ('Cholesterol', 'HeartDisease'),\n",
        "    ('BloodPressure', 'HeartDisease'),\n",
        "    ('HeartDisease', 'ChestPain'),\n",
        "    ('HeartDisease', 'ECGResult')\n",
        "])\n",
        "\n",
        "print(model.edges())"
      ],
      "metadata": {
        "colab": {
          "base_uri": "https://localhost:8080/"
        },
        "id": "Ac-x4yLz8wi3",
        "outputId": "e30ea0a3-d2b1-4cd1-ebc6-81066a2568e8"
      },
      "execution_count": null,
      "outputs": [
        {
          "output_type": "stream",
          "name": "stdout",
          "text": [
            "[('Age', 'HeartDisease'), ('HeartDisease', 'ChestPain'), ('HeartDisease', 'ECGResult'), ('Smoking', 'HeartDisease'), ('Exercise', 'HeartDisease'), ('Cholesterol', 'HeartDisease'), ('BloodPressure', 'HeartDisease')]\n"
          ]
        }
      ]
    },
    {
      "cell_type": "markdown",
      "source": [
        "**2. Define the Relationships**\n",
        "\n",
        "**Variables:** These include Age, Smoking, Exercise, Cholesterol, BloodPressure, HeartDisease, ChestPain, and ECGResult.\n",
        "\n",
        "**Dependencies:**\n",
        "* **HeartDisease** is influenced by Age, Smoking, Exercise, Cholesterol, and BloodPressure.\n",
        "* **ChestPain** is directly dependent on HeartDisease.\n",
        "* **ECGResult** is also directly dependent on HeartDisease.\n",
        "This code defines the structure of the Bayesian Network, representing"
      ],
      "metadata": {
        "id": "XhxxN9VG9p-S"
      }
    },
    {
      "cell_type": "markdown",
      "source": [
        "# **Exercise 3: Define Conditional Probability Tables (CPTs)**\n",
        "\n",
        "**1. Create CPTs Using pgmpy**"
      ],
      "metadata": {
        "id": "aoKjo1gK-Me0"
      }
    },
    {
      "cell_type": "code",
      "source": [
        "# Age: (Young, Middle-aged, Old)\n",
        "cpd_age = TabularCPD(variable='Age', variable_card=3, values=[[0.3], [0.4], [0.3]])\n",
        "\n",
        "# Smoking: (Yes, No)\n",
        "cpd_smoking = TabularCPD(variable='Smoking', variable_card=2, values=[[0.7], [0.3]])\n",
        "\n",
        "# Exercise: (Regular, None)\n",
        "cpd_exercise = TabularCPD(variable='Exercise', variable_card=2, values=[[0.6], [0.4]])\n",
        "\n",
        "# Cholesterol: (High, Normal)\n",
        "cpd_cholesterol = TabularCPD(variable='Cholesterol', variable_card=2, values=[[0.5], [0.5]])\n",
        "\n",
        "# Blood Pressure: (High, Normal)\n",
        "cpd_blood_pressure = TabularCPD(variable='BloodPressure', variable_card=2, values=[[0.4], [0.6]])\n",
        "\n",
        "# Heart Disease: Depends on Age, Smoking, Exercise, Cholesterol, and Blood Pressure\n",
        "# Hypothetical probabilities for Heart Disease based on combinations of evidence\n",
        "cpd_heart_disease = TabularCPD(variable='HeartDisease', variable_card=2,\n",
        "                               values=[\n",
        "                                   # Probability of Heart Disease = No (0) - 48 values\n",
        "                                   [0.9, 0.8, 0.7, 0.6, 0.8, 0.7, 0.6, 0.5, 0.7, 0.6, 0.5, 0.4, 0.6, 0.5, 0.4, 0.3,\n",
        "                                    0.8, 0.7, 0.6, 0.5, 0.7, 0.6, 0.5, 0.4, 0.6, 0.5, 0.4, 0.3, 0.5, 0.4, 0.3, 0.2,\n",
        "                                    0.7, 0.6, 0.5, 0.4, 0.6, 0.5, 0.4, 0.3, 0.5, 0.4, 0.3, 0.2, 0.4, 0.3, 0.2, 0.1],\n",
        "                                   # Probability of Heart Disease = Yes (1) - 48 values\n",
        "                                   [0.1, 0.2, 0.3, 0.4, 0.2, 0.3, 0.4, 0.5, 0.3, 0.4, 0.5, 0.6, 0.4, 0.5, 0.6, 0.7,\n",
        "                                    0.2, 0.3, 0.4, 0.5, 0.3, 0.4, 0.5, 0.6, 0.4, 0.5, 0.6, 0.7, 0.5, 0.6, 0.7, 0.8,\n",
        "                                    0.3, 0.4, 0.5, 0.6, 0.4, 0.5, 0.6, 0.7, 0.5, 0.6, 0.7, 0.8, 0.6, 0.7, 0.8, 0.9]\n",
        "                               ],\n",
        "                               evidence=['Age', 'Smoking', 'Exercise', 'Cholesterol', 'BloodPressure'],\n",
        "                               evidence_card=[3, 2, 2, 2, 2])\n",
        "\n",
        "# Chest Pain: Depends on Heart Disease\n",
        "cpd_chest_pain = TabularCPD(variable='ChestPain', variable_card=2,\n",
        "                            values=[\n",
        "                                # Probability of Chest Pain = No (0)\n",
        "                                [0.9, 0.3],  # If no heart disease\n",
        "                                # Probability of Chest Pain = Yes (1)\n",
        "                                [0.1, 0.7]   # If heart disease\n",
        "                            ],\n",
        "                            evidence=['HeartDisease'], evidence_card=[2])\n",
        "\n",
        "# ECG Result: Depends on Heart Disease\n",
        "cpd_ecg_result = TabularCPD(variable='ECGResult', variable_card=2,\n",
        "                            values=[\n",
        "                                # Probability of ECG Result = Normal (0)\n",
        "                                [0.85, 0.3],  # If no heart disease\n",
        "                                # Probability of ECG Result = Abnormal (1)\n",
        "                                [0.15, 0.7]   # If heart disease\n",
        "                            ],\n",
        "                            evidence=['HeartDisease'], evidence_card=[2])\n",
        "\n",
        "# Adding CPDs to the model\n",
        "model.add_cpds(cpd_age, cpd_smoking, cpd_exercise, cpd_cholesterol, cpd_blood_pressure,\n",
        "               cpd_heart_disease, cpd_chest_pain, cpd_ecg_result)\n",
        "\n",
        "# Check if the model is valid\n",
        "assert model.check_model(), \"The model structure or CPDs are incorrect!\""
      ],
      "metadata": {
        "id": "fFwt6lin-YKn"
      },
      "execution_count": null,
      "outputs": []
    },
    {
      "cell_type": "markdown",
      "source": [
        "# **Exercise 4: Inference in the Bayesian Network**\n",
        "**1. Perform Probabilistic Inference**"
      ],
      "metadata": {
        "id": "FuGI-gq4BanF"
      }
    },
    {
      "cell_type": "code",
      "source": [
        "infer = VariableElimination(model)\n",
        "\n",
        "query_1 = infer.query(variables=['HeartDisease'],\n",
        "                      evidence={'Age': 1, 'Smoking': 1, 'Cholesterol': 1, 'BloodPressure': 1})\n",
        "print(query_1)\n",
        "\n",
        "query_2 = infer.query(variables=['ECGResult'], evidence={'ChestPain': 1})\n",
        "print(query_2)"
      ],
      "metadata": {
        "colab": {
          "base_uri": "https://localhost:8080/"
        },
        "id": "_ua9He2eBmt5",
        "outputId": "770b98e5-a59c-4fc4-c7df-c2457a5bd00f"
      },
      "execution_count": null,
      "outputs": [
        {
          "output_type": "stream",
          "name": "stdout",
          "text": [
            "+-----------------+---------------------+\n",
            "| HeartDisease    |   phi(HeartDisease) |\n",
            "+=================+=====================+\n",
            "| HeartDisease(0) |              0.2600 |\n",
            "+-----------------+---------------------+\n",
            "| HeartDisease(1) |              0.7400 |\n",
            "+-----------------+---------------------+\n",
            "+--------------+------------------+\n",
            "| ECGResult    |   phi(ECGResult) |\n",
            "+==============+==================+\n",
            "| ECGResult(0) |           0.3790 |\n",
            "+--------------+------------------+\n",
            "| ECGResult(1) |           0.6210 |\n",
            "+--------------+------------------+\n"
          ]
        }
      ]
    },
    {
      "cell_type": "markdown",
      "source": [
        "**2. Posterior Probability Analysis**"
      ],
      "metadata": {
        "id": "gcWWQxX8BxkN"
      }
    },
    {
      "cell_type": "code",
      "source": [
        "# Query: Probability distribution of Heart Disease in patients who do not exercise\n",
        "query_3 = infer.query(variables=['HeartDisease'], evidence={'Exercise': 1})\n",
        "print(query_3)"
      ],
      "metadata": {
        "colab": {
          "base_uri": "https://localhost:8080/"
        },
        "id": "kKYo65jzB1Rs",
        "outputId": "ff627ef8-84ce-4cfc-c95c-8fb06a717121"
      },
      "execution_count": null,
      "outputs": [
        {
          "output_type": "stream",
          "name": "stdout",
          "text": [
            "+-----------------+---------------------+\n",
            "| HeartDisease    |   phi(HeartDisease) |\n",
            "+=================+=====================+\n",
            "| HeartDisease(0) |              0.4800 |\n",
            "+-----------------+---------------------+\n",
            "| HeartDisease(1) |              0.5200 |\n",
            "+-----------------+---------------------+\n"
          ]
        }
      ]
    },
    {
      "cell_type": "markdown",
      "source": [
        "# **Exercise 5: Parameter Learning from Simulated Data**\n",
        "**1. Simulate a Healthcare Dataset**"
      ],
      "metadata": {
        "id": "RYpEBYP5B6Jp"
      }
    },
    {
      "cell_type": "code",
      "source": [
        "# Create a synthetic dataset\n",
        "data = pd.DataFrame({\n",
        "    'Age': np.random.choice(['Young', 'Middle-aged', 'Old'], 1000),\n",
        "    'Smoking': np.random.choice(['Yes', 'No'], 1000),\n",
        "    'Exercise': np.random.choice(['Regular', 'None'], 1000),\n",
        "    'Cholesterol': np.random.choice(['High', 'Normal'], 1000),\n",
        "    'Blood Pressure': np.random.choice(['High', 'Normal'], 1000),\n",
        "})\n",
        "\n",
        "# Assuming some logic to determine Heart Disease, Chest Pain, ECG Result\n",
        "# This is just an example and should reflect actual dependencies\n",
        "def determine_health_conditions(row):\n",
        "    if row['Smoking'] == 'Yes' and row['Cholesterol'] == 'High':\n",
        "        row['Heart Disease'] = 'Yes' if np.random.rand() < 0.7 else 'No'\n",
        "    else:\n",
        "        row['Heart Disease'] = 'Yes' if np.random.rand() < 0.2 else 'No'\n",
        "\n",
        "    row['Chest Pain'] = 'Yes' if row['Heart Disease'] == 'Yes' and np.random.rand() < 0.5 else 'No'\n",
        "    row['ECG Result'] = 'Abnormal' if row['Heart Disease'] == 'Yes' and np.random.rand() < 0.6 else 'Normal'\n",
        "    return row\n",
        "\n",
        "data = data.apply(determine_health_conditions, axis=1)\n"
      ],
      "metadata": {
        "id": "kiHqEGzdB_kG"
      },
      "execution_count": null,
      "outputs": []
    },
    {
      "cell_type": "markdown",
      "source": [
        "**2. Estimate Parameters**"
      ],
      "metadata": {
        "id": "D-WKNIYYCGhj"
      }
    },
    {
      "cell_type": "code",
      "source": [
        "import pandas as pd\n",
        "\n",
        "data = {\n",
        "    'Heart_Disease': [1, 0, 1, 1, 0, 0, 1, 0, 1, 0],\n",
        "    'Chest_Pain': [1, 0, 1, 1, 0, 0, 1, 0, 1, 0],\n",
        "    'ECG_Result': [1, 0, 1, 0, 0, 1, 1, 0, 1, 0]\n",
        "}\n",
        "df = pd.DataFrame(data)\n",
        "\n",
        "def calculate_cpt(df, target_node, condition_nodes):\n",
        "    cpt = {}\n",
        "\n",
        "    grouped = df.groupby(condition_nodes)[target_node].value_counts(normalize=True).unstack(fill_value=0)\n",
        "\n",
        "    for index in grouped.index:\n",
        "        cpt[index] = grouped.loc[index].to_dict()\n",
        "\n",
        "    return cpt\n",
        "\n",
        "cpt_heart_disease = calculate_cpt(df, 'Heart_Disease', ['Chest_Pain', 'ECG_Result'])\n",
        "cpt_chest_pain = calculate_cpt(df, 'Chest_Pain', ['Heart_Disease', 'ECG_Result'])\n",
        "cpt_ecg_result = calculate_cpt(df, 'ECG_Result', ['Heart_Disease', 'Chest_Pain'])\n",
        "\n",
        "# Displaying the learned CPTs\n",
        "print(\"Learned CPT for Heart Disease:\")\n",
        "print(cpt_heart_disease)\n",
        "\n",
        "print(\"\\nLearned CPT for Chest Pain:\")\n",
        "print(cpt_chest_pain)\n",
        "\n",
        "print(\"\\nLearned CPT for ECG Result:\")\n",
        "print(cpt_ecg_result)\n",
        "\n",
        "# Example initial CPTs (these should be defined based on your prior knowledge)\n",
        "initial_cpt_heart_disease = { (0,0): 0.2, (0,1): 0.3, (1,0): 0.5 }\n",
        "initial_cpt_chest_pain = { (0,0): 0.4, (1,1): 0.6 }\n",
        "initial_cpt_ecg_result = { (1,0): 0.7 }\n",
        "\n",
        "# Function to compare learned and initial CPTs\n",
        "def compare_cpts(learned_cpt, initial_cpt):\n",
        "    comparison = {}\n",
        "    for key in learned_cpt.keys():\n",
        "        comparison[key] = {\n",
        "            'Initial': initial_cpt.get(key),\n",
        "            'Learned': learned_cpt[key]\n",
        "        }\n",
        "    return comparison\n",
        "\n",
        "# Comparing learned and initial CPTs\n",
        "comparison_heart_disease = compare_cpts(cpt_heart_disease, initial_cpt_heart_disease)\n",
        "comparison_chest_pain = compare_cpts(cpt_chest_pain, initial_cpt_chest_pain)\n",
        "comparison_ecg_result = compare_cpts(cpt_ecg_result, initial_cpt_ecg_result)\n",
        "\n",
        "print(\"\\nComparison of Heart Disease CPT:\")\n",
        "print(comparison_heart_disease)\n",
        "\n",
        "print(\"\\nComparison of Chest Pain CPT:\")\n",
        "print(comparison_chest_pain)\n",
        "\n",
        "print(\"\\nComparison of ECG Result CPT:\")\n",
        "print(comparison_ecg_result)"
      ],
      "metadata": {
        "colab": {
          "base_uri": "https://localhost:8080/"
        },
        "id": "GyboCylvMRhr",
        "outputId": "d3fea4fd-8440-4da0-e7ee-c31f38b20642"
      },
      "execution_count": null,
      "outputs": [
        {
          "output_type": "stream",
          "name": "stdout",
          "text": [
            "Learned CPT for Heart Disease:\n",
            "{(0, 0): {0: 1.0, 1: 0.0}, (0, 1): {0: 1.0, 1: 0.0}, (1, 0): {0: 0.0, 1: 1.0}, (1, 1): {0: 0.0, 1: 1.0}}\n",
            "\n",
            "Learned CPT for Chest Pain:\n",
            "{(0, 0): {0: 1.0, 1: 0.0}, (0, 1): {0: 1.0, 1: 0.0}, (1, 0): {0: 0.0, 1: 1.0}, (1, 1): {0: 0.0, 1: 1.0}}\n",
            "\n",
            "Learned CPT for ECG Result:\n",
            "{(0, 0): {0: 0.8, 1: 0.2}, (1, 1): {0: 0.2, 1: 0.8}}\n",
            "\n",
            "Comparison of Heart Disease CPT:\n",
            "{(0, 0): {'Initial': 0.2, 'Learned': {0: 1.0, 1: 0.0}}, (0, 1): {'Initial': 0.3, 'Learned': {0: 1.0, 1: 0.0}}, (1, 0): {'Initial': 0.5, 'Learned': {0: 0.0, 1: 1.0}}, (1, 1): {'Initial': None, 'Learned': {0: 0.0, 1: 1.0}}}\n",
            "\n",
            "Comparison of Chest Pain CPT:\n",
            "{(0, 0): {'Initial': 0.4, 'Learned': {0: 1.0, 1: 0.0}}, (0, 1): {'Initial': None, 'Learned': {0: 1.0, 1: 0.0}}, (1, 0): {'Initial': None, 'Learned': {0: 0.0, 1: 1.0}}, (1, 1): {'Initial': 0.6, 'Learned': {0: 0.0, 1: 1.0}}}\n",
            "\n",
            "Comparison of ECG Result CPT:\n",
            "{(0, 0): {'Initial': None, 'Learned': {0: 0.8, 1: 0.2}}, (1, 1): {'Initial': None, 'Learned': {0: 0.2, 1: 0.8}}}\n"
          ]
        }
      ]
    },
    {
      "cell_type": "markdown",
      "source": [
        "# **Exercise 6: Network Visualization and Analysis**\n",
        "\n",
        "**1. Visualize the Network**\n"
      ],
      "metadata": {
        "id": "qSgaG-LuKLc0"
      }
    },
    {
      "cell_type": "code",
      "source": [
        "nx_graph = nx.DiGraph(model.edges())\n",
        "\n",
        "nx.draw(nx_graph, with_labels=True)\n",
        "plt.show()"
      ],
      "metadata": {
        "colab": {
          "base_uri": "https://localhost:8080/",
          "height": 516
        },
        "id": "tYlMx6BSKT5e",
        "outputId": "83b518b6-a086-4e34-fa9b-f0d3c8b55df3"
      },
      "execution_count": null,
      "outputs": [
        {
          "output_type": "display_data",
          "data": {
            "text/plain": [
              "<Figure size 640x480 with 1 Axes>"
            ],
            "image/png": "[encoded data removed]"
          },
          "metadata": {}
        }
      ]
    },
    {
      "cell_type": "markdown",
      "source": [
        "**2. Sensitivity Analysis**"
      ],
      "metadata": {
        "id": "9WF7O3CGLADH"
      }
    },
    {
      "cell_type": "code",
      "source": [
        "smoking_values = [0, 1]\n",
        "probabilities = []\n",
        "\n",
        "for smoking in smoking_values:\n",
        "    prob_heart_disease = infer.query(variables=['HeartDisease'], evidence={'Smoking': smoking})\n",
        "    probabilities.append(prob_heart_disease)\n",
        "\n",
        "plt.bar(['No Smoking', 'Smoking'], [prob.values[1] for prob in probabilities])\n",
        "plt.ylabel('Probability of Heart Disease')\n",
        "plt.show()"
      ],
      "metadata": {
        "colab": {
          "base_uri": "https://localhost:8080/",
          "height": 430
        },
        "id": "DqBxyzxKLEnp",
        "outputId": "f087f464-7a37-4d6b-9c95-892da60cc824"
      },
      "execution_count": null,
      "outputs": [
        {
          "output_type": "display_data",
          "data": {
            "text/plain": [
              "<Figure size 640x480 with 1 Axes>"
            ],
            "image/png": "[encoded data removed]"
          },
          "metadata": {}
        }
      ]
    }
  ]
}