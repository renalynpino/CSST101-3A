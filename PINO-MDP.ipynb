{
  "nbformat": 4,
  "nbformat_minor": 0,
  "metadata": {
    "colab": {
      "provenance": []
    },
    "kernelspec": {
      "name": "python3",
      "display_name": "Python 3"
    },
    "language_info": {
      "name": "python"
    }
  },
  "cells": [
    {
      "cell_type": "markdown",
      "source": [
        "# **Topic 3.2: Advanced Probabilistic Models**\n",
        "\n",
        "## Implementing a Markov Decision Process (MDP)\n",
        "\n",
        "---\n",
        "**Step-by-Step Instructions**\n"
      ],
      "metadata": {
        "id": "ci2Um0FgMcOr"
      }
    },
    {
      "cell_type": "markdown",
      "source": [
        "1. Set Up Environment\n",
        "\n",
        "---\n"
      ],
      "metadata": {
        "id": "hX3CtZgSMsHM"
      }
    },
    {
      "cell_type": "code",
      "source": [
        "# Install required libraries\n",
        "import numpy as np\n",
        "import matplotlib.pyplot as plt\n",
        "\n",
        "# Define the grid environment parameters\n",
        "grid_size = 5\n",
        "start_state = (0, 0)\n",
        "goal_state = (4, 4)\n",
        "penalty_states = [(2, 2), (3, 3)]\n",
        "\n",
        "# Rewards for different states\n",
        "reward_goal = 10\n",
        "reward_penalty = -10\n",
        "reward_step = -1\n",
        "\n",
        "# Define actions and their effects\n",
        "actions = [\"U\", \"D\", \"L\", \"R\"]\n",
        "action_effects = {\n",
        "    \"U\": (-1, 0),  # Up\n",
        "    \"D\": (1, 0),   # Down\n",
        "    \"L\": (0, -1),  # Left\n",
        "    \"R\": (0, 1)    # Right\n",
        "}\n",
        "\n",
        "# Transition probabilities\n",
        "transition_probabilities = {\n",
        "    \"intended\": 0.8,\n",
        "    \"left\": 0.1,\n",
        "    \"right\": 0.1\n",
        "}"
      ],
      "metadata": {
        "id": "VA5TAUrBNO21"
      },
      "execution_count": null,
      "outputs": []
    },
    {
      "cell_type": "markdown",
      "source": [
        "2. Define the MDP\n",
        "\n",
        "---\n"
      ],
      "metadata": {
        "id": "RS4WQsVzMg2P"
      }
    },
    {
      "cell_type": "code",
      "source": [
        "def is_valid(state):\n",
        "    \"\"\"Check if the state is within grid boundaries.\"\"\"\n",
        "    x, y = state\n",
        "    return 0 <= x < grid_size and 0 <= y < grid_size\n",
        "\n",
        "def get_next_state(state, action):\n",
        "    \"\"\"Get the next state after taking an action.\"\"\"\n",
        "    dx, dy = action_effects[action]\n",
        "    next_state = (state[0] + dx, state[1] + dy)\n",
        "    return next_state if is_valid(next_state) else state\n",
        "\n",
        "def get_reward(state):\n",
        "    \"\"\"Return the reward for a given state.\"\"\"\n",
        "    if state == goal_state:\n",
        "        return reward_goal\n",
        "    if state in penalty_states:\n",
        "        return reward_penalty\n",
        "    return reward_step"
      ],
      "metadata": {
        "id": "N7qKa2tlNQUF"
      },
      "execution_count": null,
      "outputs": []
    },
    {
      "cell_type": "markdown",
      "source": [
        "3. Implement Value Iteration\n",
        "\n",
        "---\n"
      ],
      "metadata": {
        "id": "kaPNoTO8M8wB"
      }
    },
    {
      "cell_type": "code",
      "source": [
        "def value_iteration(discount_factor=0.9, theta=1e-4):\n",
        "    \"\"\"Perform Value Iteration to find the optimal policy.\"\"\"\n",
        "    # Initialize value function and policy\n",
        "    V = np.zeros((grid_size, grid_size))\n",
        "    policy = np.full((grid_size, grid_size), '', dtype=object)\n",
        "\n",
        "    while True:\n",
        "        delta = 0  # Maximum change in value function\n",
        "        new_V = np.copy(V)\n",
        "\n",
        "        for x in range(grid_size):\n",
        "            for y in range(grid_size):\n",
        "                state = (x, y)\n",
        "                if state == goal_state:\n",
        "                    continue  # Skip goal state\n",
        "\n",
        "                action_values = []\n",
        "                for action in actions:\n",
        "                    value = 0\n",
        "                    for prob_type, prob in transition_probabilities.items():\n",
        "                        if prob_type == \"intended\":\n",
        "                            next_action = action\n",
        "                        elif prob_type == \"left\":\n",
        "                            next_action = actions[(actions.index(action) - 1) % 4]\n",
        "                        elif prob_type == \"right\":\n",
        "                            next_action = actions[(actions.index(action) + 1) % 4]\n",
        "\n",
        "                        next_state = get_next_state(state, next_action)\n",
        "                        value += prob * (get_reward(next_state) + discount_factor * V[next_state])\n",
        "                    action_values.append(value)\n",
        "\n",
        "                # Update value function and policy\n",
        "                best_action_value = max(action_values)\n",
        "                new_V[state] = best_action_value\n",
        "                policy[state] = actions[np.argmax(action_values)]\n",
        "                delta = max(delta, abs(new_V[state] - V[state]))\n",
        "\n",
        "        V = new_V\n",
        "        if delta < theta:  # Convergence condition\n",
        "            break\n",
        "\n",
        "    return V, policy\n"
      ],
      "metadata": {
        "id": "QZjDPbukNTlU"
      },
      "execution_count": null,
      "outputs": []
    },
    {
      "cell_type": "markdown",
      "source": [
        "4. Run Value Iteration\n",
        "\n",
        "---\n"
      ],
      "metadata": {
        "id": "jg978GoQNixY"
      }
    },
    {
      "cell_type": "code",
      "source": [
        "# Run the Value Iteration algorithm\n",
        "optimal_values, optimal_policy = value_iteration()\n",
        "\n",
        "# Display the results\n",
        "print(\"Optimal Value Function:\")\n",
        "print(optimal_values)\n",
        "\n",
        "print(\"\\nOptimal Policy:\")\n",
        "for row in optimal_policy:\n",
        "    print(row)"
      ],
      "metadata": {
        "colab": {
          "base_uri": "https://localhost:8080/"
        },
        "id": "z_KcpDfiNwyV",
        "outputId": "c45b5c29-825d-4caf-92fa-e8fe2610db81"
      },
      "execution_count": null,
      "outputs": [
        {
          "output_type": "stream",
          "name": "stdout",
          "text": [
            "Optimal Value Function:\n",
            "[[-3.69041572 -2.81400612 -1.7063552  -0.41597141  1.0764551 ]\n",
            " [-2.81400612 -1.98954293 -0.67081883  0.91919839  2.80141652]\n",
            " [-1.7063552  -0.67081883  0.19087519  1.82171427  5.03029156]\n",
            " [-0.41597141  0.91919839  1.82171427  4.94211829  7.79751667]\n",
            " [ 1.0764551   2.80141652  5.03029156  7.79751667  0.        ]]\n",
            "\n",
            "Optimal Policy:\n",
            "['D' 'R' 'R' 'R' 'D']\n",
            "['D' 'D' 'R' 'R' 'D']\n",
            "['D' 'D' 'D' 'R' 'D']\n",
            "['D' 'D' 'D' 'D' 'D']\n",
            "['R' 'R' 'R' 'R' '']\n"
          ]
        }
      ]
    },
    {
      "cell_type": "markdown",
      "source": [
        "5. Visualize\n",
        "\n",
        "---\n"
      ],
      "metadata": {
        "id": "wQMgQ-EXM_bQ"
      }
    },
    {
      "cell_type": "code",
      "source": [
        "def plot_policy(policy):\n",
        "    \"\"\"Visualize the optimal policy.\"\"\"\n",
        "    fig, ax = plt.subplots(figsize=(6, 6))\n",
        "    for x in range(grid_size):\n",
        "        for y in range(grid_size):\n",
        "            if (x, y) == goal_state:\n",
        "                ax.text(y, x, \"G\", ha='center', va='center', color='green', fontsize=14)\n",
        "            elif (x, y) in penalty_states:\n",
        "                ax.text(y, x, \"X\", ha='center', va='center', color='red', fontsize=14)\n",
        "            else:\n",
        "                ax.text(y, x, policy[(x, y)], ha='center', va='center', fontsize=12)\n",
        "\n",
        "    ax.set_xticks(np.arange(-0.5, grid_size, 1))\n",
        "    ax.set_yticks(np.arange(-0.5, grid_size, 1))\n",
        "    ax.grid(True)\n",
        "    ax.set_xlim(-0.5, grid_size - 0.5)\n",
        "    ax.set_ylim(-0.5, grid_size - 0.5)\n",
        "    plt.gca().invert_yaxis()\n",
        "    plt.title(\"Optimal Policy Visualization\")\n",
        "    plt.show()\n",
        "\n",
        "plot_policy(optimal_policy)"
      ],
      "metadata": {
        "colab": {
          "base_uri": "https://localhost:8080/",
          "height": 545
        },
        "id": "pdb_fAZnNYXC",
        "outputId": "ed95c2b3-2803-46cc-d460-6112ca09ded6"
      },
      "execution_count": null,
      "outputs": [
        {
          "output_type": "display_data",
          "data": {
            "text/plain": [
              "<Figure size 600x600 with 1 Axes>"
            ],
            "image/png": "[encoded data removed]"
          },
          "metadata": {}
        }
      ]
    }
  ]
}