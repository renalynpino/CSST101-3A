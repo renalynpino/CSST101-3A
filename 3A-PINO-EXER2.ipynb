{
  "nbformat": 4,
  "nbformat_minor": 0,
  "metadata": {
    "colab": {
      "provenance": []
    },
    "kernelspec": {
      "name": "python3",
      "display_name": "Python 3"
    },
    "language_info": {
      "name": "python"
    }
  },
  "cells": [
    {
      "cell_type": "markdown",
      "source": [
        "# **Exercise 1: Introduction to Probability Theory in AI**"
      ],
      "metadata": {
        "id": "SANM58CmCZ9Z"
      }
    },
    {
      "cell_type": "markdown",
      "source": [
        "**Tasks:**\n",
        "1. Basic Probability Calculation: Write Python functions that calculate the following:\n",
        "   \n"
      ],
      "metadata": {
        "id": "khRYHHdZ9uSS"
      }
    },
    {
      "cell_type": "markdown",
      "source": [
        "   * **Joint Probability: The probability of two events happening together.**\n"
      ],
      "metadata": {
        "id": "L35bjj-OnY9E"
      }
    },
    {
      "cell_type": "code",
      "source": [
        "def joint_probability(prob_a, prob_b_given_a):\n",
        "      return prob_a * prob_b_given_a"
      ],
      "metadata": {
        "id": "L_4aCyRK-Nne"
      },
      "execution_count": 13,
      "outputs": []
    },
    {
      "cell_type": "markdown",
      "source": [
        "  *  **Marginal Probability: The probability of an individual event, summing over\n",
        "all possible outcomes**\n",
        "\n",
        "  "
      ],
      "metadata": {
        "id": "P2_SnElt-fBa"
      }
    },
    {
      "cell_type": "code",
      "source": [
        "def marginal_probability(joint_probabilities):\n",
        "    return sum(joint_probabilities)"
      ],
      "metadata": {
        "id": "7o1tPLSw-em8"
      },
      "execution_count": 14,
      "outputs": []
    },
    {
      "cell_type": "markdown",
      "source": [
        "*  **Conditional Probability: The probability of an event given that another event has occurred**."
      ],
      "metadata": {
        "id": "Wtj6l_ss-uNe"
      }
    },
    {
      "cell_type": "code",
      "source": [
        "def conditional_probability(joint_prob, marginal_prob):\n",
        "  if marginal_prob == 0:\n",
        "        raise ValueError(\"Marginal probability cannot be zero for conditional probability calculation.\")\n",
        "        return joint_prob / marginal_prob"
      ],
      "metadata": {
        "id": "B_SrPqIW-tsV"
      },
      "execution_count": 17,
      "outputs": []
    },
    {
      "cell_type": "markdown",
      "source": [
        "# **Assessment Task 1: Basic Probability Calculations**\n"
      ],
      "metadata": {
        "id": "2yl8xh9Z9waE"
      }
    },
    {
      "cell_type": "markdown",
      "source": [
        "**1. Start with a Coding Task:**"
      ],
      "metadata": {
        "id": "uhQWCk4mCeWB"
      }
    },
    {
      "cell_type": "markdown",
      "source": [
        "* **Joint Probability**"
      ],
      "metadata": {
        "id": "77U2zWsW1dJL"
      }
    },
    {
      "cell_type": "code",
      "source": [
        "def joint_probability(p_A, p_B):\n",
        "  return p_A * p_B"
      ],
      "metadata": {
        "id": "xg5tqTC11ogR"
      },
      "execution_count": 1,
      "outputs": []
    },
    {
      "cell_type": "markdown",
      "source": [
        "* **Marginal Probability**"
      ],
      "metadata": {
        "id": "HL7vGipE1n0C"
      }
    },
    {
      "cell_type": "code",
      "source": [
        "def marginal_probability(p_A, p_B):\n",
        "  return p_A + p_B - joint_probability(p_A, p_B)"
      ],
      "metadata": {
        "id": "c2w1RsDB1sYt"
      },
      "execution_count": 2,
      "outputs": []
    },
    {
      "cell_type": "markdown",
      "source": [
        "* **Conditional Probability**"
      ],
      "metadata": {
        "id": "jd5xoGe_1syP"
      }
    },
    {
      "cell_type": "code",
      "source": [
        "def conditional_probability(p_B_given_A, p_A, p_B):\n",
        "  return (p_B_given_A * p_A)/p_B"
      ],
      "metadata": {
        "id": "YtHGLTEj12pb"
      },
      "execution_count": 3,
      "outputs": []
    },
    {
      "cell_type": "markdown",
      "source": [
        "**2. Interactive Question:**\n",
        "\n",
        "If the probability of event A is 0.3 and the probability of event B is 0.4,\n",
        "what is the joint probability of A and B assuming they are independent?"
      ],
      "metadata": {
        "id": "jH2Jzv7O17PK"
      }
    },
    {
      "cell_type": "code",
      "source": [
        "p_A = 0.3\n",
        "p_B = 0.4\n",
        "p_B_given_A = 0.8\n",
        "\n",
        "print(f\"Joint Probability: {joint_probability(p_A, p_B)}\")\n",
        "print(f\"Marginal Probability: {marginal_probability(p_A, p_B)}\")\n",
        "print(f\"Conditional Probability: {conditional_probability(p_B_given_A, p_A, p_B)}\")"
      ],
      "metadata": {
        "colab": {
          "base_uri": "https://localhost:8080/"
        },
        "id": "7LteoDBUC6v8",
        "outputId": "5a72f6b4-4d08-4bae-9769-73a066df6a4e"
      },
      "execution_count": 4,
      "outputs": [
        {
          "output_type": "stream",
          "name": "stdout",
          "text": [
            "Joint Probability: 0.12\n",
            "Marginal Probability: 0.58\n",
            "Conditional Probability: 0.6\n"
          ]
        }
      ]
    },
    {
      "cell_type": "markdown",
      "source": [],
      "metadata": {
        "id": "70w0KnxLniJl"
      }
    },
    {
      "cell_type": "markdown",
      "source": [
        "# **Exercise 2: Decision-Making Under Uncertainty**\n",
        "\n",
        "**Tasks**\n",
        "\n",
        "  **1. Simulate a Decision Process**:\n"
      ],
      "metadata": {
        "id": "6fY_PKl-AFNG"
      }
    },
    {
      "cell_type": "code",
      "source": [
        "import random\n",
        "\n",
        "def make_decision(prob_success, reward, penalty):\n",
        "    outcome = random.random() < prob_success\n",
        "    if outcome:\n",
        "        return reward\n",
        "    else:\n",
        "        return penalty\n",
        "prob_success = 0.7\n",
        "reward = 100\n",
        "penalty = -50\n",
        "\n",
        "expected_value = prob_success * reward + (1 - prob_success) * penalty\n",
        "print(f\"Expected Value of the decision: {expected_value}\")\n",
        "\n",
        "n_simulations = 10\n",
        "results = [make_decision(prob_success, reward, penalty) for _ in range(n_simulations)]\n",
        "\n",
        "print(f\"Simulation Results: {results}\")"
      ],
      "metadata": {
        "colab": {
          "base_uri": "https://localhost:8080/"
        },
        "id": "qdffyb4RAWMC",
        "outputId": "ee00cc14-05df-45d4-eff4-f358a28f9083"
      },
      "execution_count": 19,
      "outputs": [
        {
          "output_type": "stream",
          "name": "stdout",
          "text": [
            "Expected Value of the decision: 55.0\n",
            "Simulation Results: [-50, 100, 100, 100, -50, 100, 100, 100, -50, 100]\n"
          ]
        }
      ]
    },
    {
      "cell_type": "markdown",
      "source": [
        "   **2. Decision Tree Example**"
      ],
      "metadata": {
        "id": "zY5Tv7dCB0jf"
      }
    },
    {
      "cell_type": "code",
      "source": [
        "class DecisionNode:\n",
        "    def __init__(self, name, prob, success_value, fail_value):\n",
        "        self.name = name\n",
        "        self.prob = prob\n",
        "        self.success_value = success_value\n",
        "        self.fail_value = fail_value\n",
        "\n",
        "    def calculate_expected_value(self):\n",
        "        return self.prob * self.success_value + (1 - self.prob) * self.fail_value\n",
        "\n",
        "action_A = DecisionNode(\"Action A\", prob=0.7, success_value=50, fail_value=-10)\n",
        "action_B = DecisionNode(\"Action B\", prob=0.4, success_value=100, fail_value=-20)\n",
        "\n",
        "expected_value_A = action_A.calculate_expected_value()\n",
        "expected_value_B = action_B.calculate_expected_value()\n",
        "\n",
        "print(f\"Expected Value of Action A: {expected_value_A}\")\n",
        "print(f\"Expected Value of Action B: {expected_value_B}\")\n",
        "\n",
        "if expected_value_A > expected_value_B:\n",
        "    print(\"Robot chooses Action A\")\n",
        "else:\n",
        "    print(\"Robot chooses Action B\")"
      ],
      "metadata": {
        "colab": {
          "base_uri": "https://localhost:8080/"
        },
        "id": "WICDPZl2CIc8",
        "outputId": "7c769bf5-cf30-4e3c-b734-268eb70f55fb"
      },
      "execution_count": 21,
      "outputs": [
        {
          "output_type": "stream",
          "name": "stdout",
          "text": [
            "Expected Value of Action A: 32.0\n",
            "Expected Value of Action B: 28.0\n",
            "Robot chooses Action A\n"
          ]
        }
      ]
    },
    {
      "cell_type": "markdown",
      "source": [
        "# **Assessment Task 2: Bayesian Inference**"
      ],
      "metadata": {
        "id": "cfmCZw77GC2Q"
      }
    },
    {
      "cell_type": "markdown",
      "source": [
        "**1. Interactive Bayesian Model**"
      ],
      "metadata": {
        "id": "9QUafYzUG05C"
      }
    },
    {
      "cell_type": "code",
      "source": [
        "def bayesian_inference(prior_H, likelihood_E_given_H, false_positive_rate, prior_not_H):\n",
        "    evidence_E = (likelihood_E_given_H * prior_H) + (false_positive_rate * prior_not_H)\n",
        "\n",
        "    posterior_H_given_E = (likelihood_E_given_H * prior_H) / evidence_E\n",
        "\n",
        "    return posterior_H_given_E"
      ],
      "metadata": {
        "id": "w7bK6eGfEKnp"
      },
      "execution_count": 22,
      "outputs": []
    },
    {
      "cell_type": "markdown",
      "source": [
        "**2. Interactive Scenario**"
      ],
      "metadata": {
        "id": "XH4RGPoz2ur7"
      }
    },
    {
      "cell_type": "code",
      "source": [
        "prior_H = 0.01\n",
        "likelihood_E_given_H = 0.9\n",
        "false_positive_rate = 0.05\n",
        "prior_not_H = 1 - prior_H\n",
        "\n",
        "posterior_H_given_E = bayesian_inference(prior_H, likelihood_E_given_H, false_positive_rate, prior_not_H)\n",
        "\n",
        "print(f\"Probability of having the disease given a positive test result: {posterior_H_given_E:.4f}\")"
      ],
      "metadata": {
        "colab": {
          "base_uri": "https://localhost:8080/"
        },
        "id": "hpUUxVB_2vF_",
        "outputId": "9c590ca7-e202-4e3e-ab9d-f60555d9636c"
      },
      "execution_count": 23,
      "outputs": [
        {
          "output_type": "stream",
          "name": "stdout",
          "text": [
            "Probability of having the disease given a positive test result: 0.1538\n"
          ]
        }
      ]
    },
    {
      "cell_type": "markdown",
      "source": [
        "# **Exercise 3: Applying Probability Theory in AI for Diagnosis**"
      ],
      "metadata": {
        "id": "iT4p5w3UJXgG"
      }
    },
    {
      "cell_type": "markdown",
      "source": [
        "**Tasks:**\n",
        "\n",
        " 1. Medical Diagnosis Example: Model a scenario where an AI must diagnose a disease based on test results.\n",
        "\n",
        "  o Define the prior probabilities of having the disease.\n",
        "\n",
        "  o Define the likelihood of the test being positive given the presence or absence of the disease.\n",
        "\n",
        "  o Use Bayes’ Theorem to calculate the posterior probability of the disease given apositive test result."
      ],
      "metadata": {
        "id": "F3wpfYyjJc9t"
      }
    },
    {
      "cell_type": "code",
      "source": [
        "def bayesian_inference(prior_H, likelihood_E_given_H, false_positive_rate, prior_not_H):\n",
        "    \"\"\"\n",
        "    Perform Bayesian inference to calculate the probability of having a disease\n",
        "    given a positive test result.\n",
        "    \"\"\"\n",
        "    evidence_E = (likelihood_E_given_H * prior_H) + (false_positive_rate * prior_not_H)\n",
        "\n",
        "    posterior_H_given_E = (likelihood_E_given_H * prior_H) / evidence_E\n",
        "\n",
        "    return posterior_H_given_E\n",
        "\n",
        "\n",
        "prior_H = 0.01\n",
        "likelihood_E_given_H = 0.95\n",
        "false_positive_rate = 0.10\n",
        "prior_not_H = 1 - prior_H\n",
        "\n",
        "posterior_H_given_E = bayesian_inference(prior_H, likelihood_E_given_H, false_positive_rate, prior_not_H)\n",
        "\n",
        "print(f\"Probability of having Disease given a positive test result: {posterior_H_given_E:.4f}\")"
      ],
      "metadata": {
        "colab": {
          "base_uri": "https://localhost:8080/"
        },
        "id": "WOitlOgcJfP_",
        "outputId": "9a4458ed-5c08-494a-c533-db07712e05e9"
      },
      "execution_count": 25,
      "outputs": [
        {
          "output_type": "stream",
          "name": "stdout",
          "text": [
            "Probability of having Disease given a positive test result: 0.0876\n"
          ]
        }
      ]
    },
    {
      "cell_type": "markdown",
      "source": [
        "# **Assessment Task 3: Decision-Making Under Uncertainty**"
      ],
      "metadata": {
        "id": "CwY93dxXFoJv"
      }
    },
    {
      "cell_type": "markdown",
      "source": [
        "**1. Interactive Decision Simulation**"
      ],
      "metadata": {
        "id": "7bDS31vpSInY"
      }
    },
    {
      "cell_type": "code",
      "source": [
        "import numpy as np\n",
        "\n",
        "def simulate_decision(probability_of_success, iterations=1000):\n",
        "    success_reward = 1000\n",
        "    failure_penalty = -500\n",
        "\n",
        "    results = []\n",
        "\n",
        "    for _ in range(iterations):\n",
        "        if np.random.rand() < probability_of_success:\n",
        "            results.append(success_reward)\n",
        "        else:\n",
        "            results.append(failure_penalty)\n",
        "\n",
        "    average_return = np.mean(results)\n",
        "    return average_return, results"
      ],
      "metadata": {
        "id": "u3AtXGYwSH1T"
      },
      "execution_count": 27,
      "outputs": []
    },
    {
      "cell_type": "markdown",
      "source": [
        "**2. Interactive Task**"
      ],
      "metadata": {
        "id": "AyO3J2wRF4h6"
      }
    },
    {
      "cell_type": "code",
      "source": [
        "def run_simulation():\n",
        "    try:\n",
        "        probability_of_success = float(input(\"Enter the probability of success (0 to 1): \"))\n",
        "        if not (0 <= probability_of_success <= 1):\n",
        "            raise ValueError(\"Probability must be between 0 and 1.\")\n",
        "    except ValueError as e:\n",
        "        print(f\"Invalid input: {e}\")\n",
        "        return\n",
        "\n",
        "    average_return, results = simulate_decision(probability_of_success)\n",
        "\n",
        "    print(f\"Average return after 1000 iterations: ${average_return:.2f}\")\n",
        "    print(f\"Total profit/loss after 1000 iterations: ${sum(results):.2f}\")\n",
        "\n",
        "if __name__ == \"__main__\":\n",
        "    run_simulation()"
      ],
      "metadata": {
        "colab": {
          "base_uri": "https://localhost:8080/"
        },
        "id": "79RXRow-U0WF",
        "outputId": "8cfd72e9-5b44-4f03-e15e-ad68596dcfd4"
      },
      "execution_count": 35,
      "outputs": [
        {
          "output_type": "stream",
          "name": "stdout",
          "text": [
            "Enter the probability of success (0 to 1): 0.7\n",
            "Average return after 1000 iterations: $517.00\n",
            "Total profit/loss after 1000 iterations: $517000.00\n"
          ]
        }
      ]
    },
    {
      "cell_type": "markdown",
      "source": [
        "* **Feedback**\n",
        "\n",
        " This simulation illustrates how changing the probability of success impacts the average return. Higher probabilities of success lead to a higher average return, while lower probabilities decrease expected returns. Understanding these probabilities helps in making better investment decisions under uncertainty."
      ],
      "metadata": {
        "id": "k0g4EGWhVKY_"
      }
    },
    {
      "cell_type": "markdown",
      "source": [
        "# **Exercise 4: Probability Distribution in AI**"
      ],
      "metadata": {
        "id": "SQcnn_coLtdA"
      }
    },
    {
      "cell_type": "markdown",
      "source": [
        "**Tasks**\n",
        "\n",
        "**1. Simulate Probability Distributions**"
      ],
      "metadata": {
        "id": "O3B9DnaUY_j6"
      }
    },
    {
      "cell_type": "code",
      "source": [
        "import numpy as np\n",
        "import matplotlib.pyplot as plt\n",
        "import seaborn as sns\n",
        "from scipy.stats import binom, norm\n",
        "\n",
        "def simulate_distributions():\n",
        "    n = 10\n",
        "    p = 0.5\n",
        "    binomial_data = binom.rvs(n, p, size=1000)\n",
        "\n",
        "    mu = 0\n",
        "    sigma = 1\n",
        "    normal_data = np.random.normal(mu, sigma, 1000)\n",
        "\n",
        "    return binomial_data, normal_data"
      ],
      "metadata": {
        "id": "kO8U6KobZJp_"
      },
      "execution_count": 36,
      "outputs": []
    },
    {
      "cell_type": "markdown",
      "source": [
        "**2. Visualize the Distribution**"
      ],
      "metadata": {
        "id": "Akvi8HchZJHj"
      }
    },
    {
      "cell_type": "code",
      "source": [
        "def visualize_distributions(binomial_data, normal_data):\n",
        "    plt.figure(figsize=(12, 6))\n",
        "\n",
        "    plt.subplot(1, 2, 1)\n",
        "    sns.histplot(binomial_data, bins=np.arange(0, 12) - 0.5, kde=False, color='skyblue')\n",
        "    plt.title('Binomial Distribution (n=10, p=0.5)')\n",
        "    plt.xlabel('Number of Successes')\n",
        "    plt.ylabel('Frequency')\n",
        "    plt.xticks(range(0, 11))\n",
        "\n",
        "    plt.subplot(1, 2, 2)\n",
        "    sns.histplot(normal_data, bins=30, kde=True, color='salmon')\n",
        "    plt.title('Normal Distribution (mean=0, std=1)')\n",
        "    plt.xlabel('Value')\n",
        "    plt.ylabel('Frequency')\n",
        "\n",
        "    plt.tight_layout()\n",
        "    plt.show()\n",
        "\n",
        "if __name__ == \"__main__\":\n",
        "    binomial_data, normal_data = simulate_distributions()\n",
        "    visualize_distributions(binomial_data, normal_data)"
      ],
      "metadata": {
        "colab": {
          "base_uri": "https://localhost:8080/",
          "height": 607
        },
        "id": "17p6Cj4jZOJ2",
        "outputId": "83353b4a-a40d-4413-c073-16c548389d1e"
      },
      "execution_count": 37,
      "outputs": [
        {
          "output_type": "display_data",
          "data": {
            "text/plain": [
              "<Figure size 1200x600 with 2 Axes>"
            ],
            "image/png": "[encoded data removed]"
          },
          "metadata": {}
        }
      ]
    },
    {
      "cell_type": "markdown",
      "source": [
        "# **Assessment Task 4: Real-World Scenario**\n"
      ],
      "metadata": {
        "id": "GVA9K8oSL0UY"
      }
    },
    {
      "cell_type": "markdown",
      "source": [
        "**1. Interactive Real-World Problem**"
      ],
      "metadata": {
        "id": "KXE_TmysZ-LS"
      }
    },
    {
      "cell_type": "code",
      "source": [
        "def rain_prediction(humidity_level, cloud_cover_level):\n",
        "    p_humidity = humidity_level\n",
        "    p_cloud = cloud_cover_level\n",
        "\n",
        "    p_rain = 0.3\n",
        "    p_humidity_given_rain = 0.8\n",
        "    p_cloud_given_rain = 0.7\n",
        "\n",
        "    return (p_humidity_given_rain * p_cloud_given_rain * p_rain) / (p_humidity * p_cloud)"
      ],
      "metadata": {
        "id": "hq0teTjjL_Uk"
      },
      "execution_count": 52,
      "outputs": []
    },
    {
      "cell_type": "markdown",
      "source": [
        "**2. Scenario Simulation**"
      ],
      "metadata": {
        "id": "C2T4rtWWaKmA"
      }
    },
    {
      "cell_type": "code",
      "source": [
        "humidity_level = float(input(\"Enter the humidity level (0 to 1): \"))\n",
        "cloud_cover_level = float(input(\"Enter the cloud cover level (0 to 1): \"))\n",
        "\n",
        "rain_prob = rain_prediction(humidity_level, cloud_cover_level)\n",
        "print(f\"\\nProbability of rain: {rain_prob:.2f}\")"
      ],
      "metadata": {
        "colab": {
          "base_uri": "https://localhost:8080/"
        },
        "id": "bK0jf799beTp",
        "outputId": "dcfbce79-422a-46ab-be1a-47ec36b2c19a"
      },
      "execution_count": 57,
      "outputs": [
        {
          "output_type": "stream",
          "name": "stdout",
          "text": [
            "Enter the humidity level (0 to 1): 0.63\n",
            "Enter the cloud cover level (0 to 1): 0.95\n",
            "\n",
            "Probability of rain: 0.28\n"
          ]
        }
      ]
    },
    {
      "cell_type": "markdown",
      "source": [
        "* **Feedback**\n",
        "\n",
        " -Humidity Level: A higher humidity level (closer to 1) increases the likelihood of rain because it indicates more moisture in the air. In this function, if you input a high humidity value, it raises the conditional probability of rain.\n",
        "\n",
        " -Cloud Cover Level: Similar to humidity, a greater cloud cover level (also closer to 1) suggests that clouds are present which could lead to precipitation. This will also contribute positively to the probability of rain."
      ],
      "metadata": {
        "id": "Fw9eqSGgoi9m"
      }
    },
    {
      "cell_type": "markdown",
      "source": [
        "# **Exercise 5: Real-World Application of Probability in AI**"
      ],
      "metadata": {
        "id": "V_OnFHsxL942"
      }
    },
    {
      "cell_type": "markdown",
      "source": [
        "**Tasks:**\n",
        "\n",
        "**1. Customer Behavior Prediction**"
      ],
      "metadata": {
        "id": "LHc-ZaISM5x2"
      }
    },
    {
      "cell_type": "code",
      "source": [
        "P_click = 0.5\n",
        "P_add_to_cart_given_click = 0.7\n",
        "P_purchase_given_add_to_cart = 0.6\n",
        "\n",
        "def calculate_purchase_probability():\n",
        "    P_add_to_cart = P_add_to_cart_given_click * P_click\n",
        "    P_purchase = P_purchase_given_add_to_cart * P_add_to_cart\n",
        "\n",
        "    return P_purchase\n",
        "\n",
        "purchase_probability = calculate_purchase_probability()\n",
        "\n",
        "print(f\"The probability of making a purchase given that an item has been added to the cart is: {P_purchase_given_add_to_cart:.2f}\")\n",
        "print(f\"The overall probability of making a purchase after clicking on a product is: {purchase_probability:.2f}\")"
      ],
      "metadata": {
        "colab": {
          "base_uri": "https://localhost:8080/"
        },
        "id": "D6jmuGWpM3kQ",
        "outputId": "0aafb32e-2313-4eab-ad70-5d486b7b32d8"
      },
      "execution_count": 59,
      "outputs": [
        {
          "output_type": "stream",
          "name": "stdout",
          "text": [
            "The probability of making a purchase given that an item has been added to the cart is: 0.60\n",
            "The overall probability of making a purchase after clicking on a product is: 0.21\n"
          ]
        }
      ]
    },
    {
      "cell_type": "markdown",
      "source": [
        "# **Assessment Task 5: Probability Distributions Visualization**\n"
      ],
      "metadata": {
        "id": "-FI0j9dYeUYs"
      }
    },
    {
      "cell_type": "markdown",
      "source": [
        "**1. Interactive Visualization Task**"
      ],
      "metadata": {
        "id": "N7TkSxqteam0"
      }
    },
    {
      "cell_type": "code",
      "source": [
        "import numpy as np\n",
        "import matplotlib.pyplot as plt\n",
        "from scipy.stats import binom, norm\n",
        "\n",
        "def plot_binomial_distribution(n, p):\n",
        "    x = np.arange(0, n + 1)\n",
        "    pmf = binom.pmf(x, n, p)\n",
        "\n",
        "    plt.figure(figsize=(12, 6))\n",
        "    plt.bar(x, pmf, label=f'Binomial Distribution (n={n}, p={p})', color='blue', alpha=0.7)\n",
        "    plt.title('Binomial Distribution PMF')\n",
        "    plt.xlabel('Number of Successes')\n",
        "    plt.ylabel('Probability')\n",
        "    plt.xticks(x)\n",
        "    plt.grid()\n",
        "    plt.legend()\n",
        "    plt.show()\n",
        "\n",
        "def plot_normal_distribution(mean, std_dev):\n",
        "    x = np.linspace(mean - 4*std_dev, mean + 4*std_dev, 1000)\n",
        "    pdf = norm.pdf(x, mean, std_dev)\n",
        "\n",
        "    plt.figure(figsize=(12, 6))\n",
        "    plt.plot(x, pdf, label=f'Normal Distribution (mean={mean}, std_dev={std_dev})', color='orange')\n",
        "    plt.title('Normal Distribution PDF')\n",
        "    plt.xlabel('Value')\n",
        "    plt.ylabel('Probability Density')\n",
        "    plt.grid()\n",
        "    plt.legend()\n",
        "    plt.show()"
      ],
      "metadata": {
        "id": "rJyFHUkledz6"
      },
      "execution_count": 60,
      "outputs": []
    },
    {
      "cell_type": "markdown",
      "source": [
        "**2. Interactive Question**\n",
        "\n",
        "* **Task:** Simulate 1000 coin flips using a binomial distribution and visualize the\n",
        "outcomes."
      ],
      "metadata": {
        "id": "KAkRHD42eeD9"
      }
    },
    {
      "cell_type": "code",
      "source": [
        "def simulate_coin_flips(trials, prob_heads):\n",
        "    outcomes = np.random.binomial(trials, prob_heads, 1000)\n",
        "    return outcomes\n",
        "\n",
        "n = 10\n",
        "p = 0.5\n",
        "\n",
        "coin_flips = simulate_coin_flips(n, p)\n",
        "\n",
        "plot_binomial_distribution(n, p)\n",
        "\n",
        "mean = n * p\n",
        "std_dev = np.sqrt(n * p * (1 - p))\n",
        "plot_normal_distribution(mean, std_dev)"
      ],
      "metadata": {
        "colab": {
          "base_uri": "https://localhost:8080/",
          "height": 1000
        },
        "id": "cYo7ev8LeiJg",
        "outputId": "9839cbae-c32a-4661-e04f-04bfa22a45fb"
      },
      "execution_count": 61,
      "outputs": [
        {
          "output_type": "display_data",
          "data": {
            "text/plain": [
              "<Figure size 1200x600 with 1 Axes>"
            ],
            "image/png": "[encoded data removed]"
          },
          "metadata": {}
        },
        {
          "output_type": "display_data",
          "data": {
            "text/plain": [
              "<Figure size 1200x600 with 1 Axes>"
            ],
            "image/png": "[encoded data removed]"
          },
          "metadata": {}
        }
      ]
    },
    {
      "cell_type": "markdown",
      "source": [
        "* **Follow-Up:** How does increasing the number of trials or changing the\n",
        "probability of heads affect the distribution?\n",
        "\n",
        " - Increasing the number of trials (n) makes the distribution more bell-shaped and centered around the mean, leading to a more predictable outcome. As n increases, the distribution approaches a normal shape due to the Central Limit Theorem. Changing the probability of heads (p) shifts the distribution left or right; if p is greater than 0.5, it skews right, and if p is less than 0.5, it skews left. This affects the likelihood of getting more heads or tails in the simulation."
      ],
      "metadata": {
        "id": "igZAV8ysjsZ3"
      }
    },
    {
      "cell_type": "markdown",
      "source": [
        "**3. Interactive Graph**"
      ],
      "metadata": {
        "id": "BkP6xAqAeieF"
      }
    },
    {
      "cell_type": "code",
      "source": [
        "def interactive_plot(trials, prob_heads):\n",
        "    outcomes = simulate_coin_flips(trials, prob_heads)\n",
        "\n",
        "    plt.figure(figsize=(12, 6))\n",
        "    plt.hist(outcomes, bins=range(trials + 2), density=True, alpha=0.6, color='gray', label='Simulated Outcomes')\n",
        "\n",
        "    x = np.arange(0, trials + 1)\n",
        "    pmf = binom.pmf(x, trials, prob_heads)\n",
        "    plt.bar(x, pmf, alpha=0.5, label='Theoretical PMF', color='blue')\n",
        "\n",
        "    plt.title(f'Coin Flip Simulation (n={trials}, p={prob_heads})')\n",
        "    plt.xlabel('Number of Heads')\n",
        "    plt.ylabel('Probability')\n",
        "    plt.xticks(x)\n",
        "    plt.grid()\n",
        "    plt.legend()\n",
        "    plt.show()\n",
        "\n",
        "    interactive_plot(10, 0.5)"
      ],
      "metadata": {
        "id": "tnCSxwotemFX"
      },
      "execution_count": 75,
      "outputs": []
    },
    {
      "cell_type": "markdown",
      "source": [
        "* **Feedback**\n",
        "\n",
        "1. Increasing the number of trials (n) generally makes the distribution more centered around the expected value (np) and narrower.\n",
        "2. Changing the probability of heads (p) skews the distribution; if p > 0.5, it shifts right, and if p < 0.5, it shifts left.\n",
        "3. The normal approximation becomes more accurate as n increases due to the Central Limit Theorem."
      ],
      "metadata": {
        "id": "a9ULWlqClNoZ"
      }
    }
  ]
}