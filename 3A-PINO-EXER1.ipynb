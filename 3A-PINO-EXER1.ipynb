{
  "nbformat": 4,
  "nbformat_minor": 0,
  "metadata": {
    "colab": {
      "provenance": []
    },
    "kernelspec": {
      "name": "python3",
      "display_name": "Python 3"
    },
    "language_info": {
      "name": "python"
    }
  },
  "cells": [
    {
      "cell_type": "markdown",
      "source": [
        "# **Exercise 1: Propositional Logic in Python**\n",
        "\n",
        "**1. Represent the following statements using propositional logic**"
      ],
      "metadata": {
        "id": "C7AMJ1obSiln"
      }
    },
    {
      "cell_type": "markdown",
      "source": [
        "- \"If it rains, the ground will be wet.\"\n",
        "\n",
        "   Rains→Wet\n",
        "\n",
        "- \"If the ground is wet, the match will not light.\"\n",
        "\n",
        "   Wet→¬MatchLights\n",
        "\n",
        "- \"It is raining.\"\n",
        "\n",
        "   Rains"
      ],
      "metadata": {
        "id": "sdpjVcPSS0xW"
      }
    },
    {
      "cell_type": "markdown",
      "source": [
        " **2. Implement this using Python to simulate the conditions and use simple logical inference (e.g., using if statements) to determine if the match will light or not.**\n"
      ],
      "metadata": {
        "id": "DVfRubj4TVBk"
      }
    },
    {
      "cell_type": "code",
      "source": [
        "raining = True\n",
        "ground_wet = False\n",
        "match_lights = True\n",
        "\n",
        "# If it rains, the ground will be wet (R -> G)\n",
        "if raining:\n",
        "    ground_wet = True\n",
        "\n",
        "# If the ground is wet, the match will not light (G -> ¬M)\n",
        "if ground_wet:\n",
        "    match_lights = False\n",
        "\n",
        "# Output the result\n",
        "if match_lights:\n",
        "    print(\"The match will light.\")\n",
        "else:\n",
        "    print(\"The match will not light.\")"
      ],
      "metadata": {
        "colab": {
          "base_uri": "https://localhost:8080/"
        },
        "id": "nt2ODUToSvHK",
        "outputId": "358f1060-71c2-45ac-b14a-f8c046241f13"
      },
      "execution_count": 6,
      "outputs": [
        {
          "output_type": "stream",
          "name": "stdout",
          "text": [
            "The match will not light.\n"
          ]
        }
      ]
    },
    {
      "cell_type": "markdown",
      "source": [
        "# **2. Exercise 2: Predicate Logic Representation**\n",
        "\n",
        "**1. Represent the following scenario using predicate logic**"
      ],
      "metadata": {
        "id": "x-52SO3TUNl7"
      }
    },
    {
      "cell_type": "markdown",
      "source": [
        "- \"All humans are mortal.\"\n",
        "\n",
        "  ∀x(Human(x)→Mortal(x))\n",
        "\n",
        "- \"Socrates is a human.\"\n",
        "\n",
        "   Human(Socrates)\n",
        "\n",
        "- \"Therefore, Socrates is mortal.\"\n",
        "\n",
        "   Mortal(Socrates)"
      ],
      "metadata": {
        "id": "jn1-Mc7OU1Oc"
      }
    },
    {
      "cell_type": "markdown",
      "source": [
        "**2. Implement this in Python using predicates like isHuman() and isMortal() to infer Socrates' mortality**"
      ],
      "metadata": {
        "id": "I4g7eoc_VqVP"
      }
    },
    {
      "cell_type": "code",
      "source": [
        "def isHuman(person):\n",
        "    return person == \"Socrates\"\n",
        "\n",
        "def isMortal(person):\n",
        "    return isHuman(person)\n",
        "\n",
        "person = \"Socrates\"\n",
        "if isMortal(person):\n",
        "    print(f\"{person} is mortal.\")\n",
        "else:\n",
        "    print(f\"{person} is not mortal.\")\n"
      ],
      "metadata": {
        "colab": {
          "base_uri": "https://localhost:8080/"
        },
        "id": "znDGjFJnWp8M",
        "outputId": "4119a136-9952-414d-f479-c1f2de65c0fc"
      },
      "execution_count": null,
      "outputs": [
        {
          "output_type": "stream",
          "name": "stdout",
          "text": [
            "Socrates is mortal.\n"
          ]
        }
      ]
    },
    {
      "cell_type": "markdown",
      "source": [
        "# **Exercise 3: Inference Techniques in Logic-Based Systems**\n",
        "\n",
        "* **1. Python Script Using Modus Ponens**"
      ],
      "metadata": {
        "id": "br3dQyluWxdU"
      }
    },
    {
      "cell_type": "code",
      "source": [
        "rules = [(\"X\", \"Y\")]\n",
        "facts = [\"X\"]\n",
        "\n",
        "def modus_ponens(rules, facts):\n",
        "    conclusions = []\n",
        "    for rule in rules:\n",
        "        premise, conclusion = rule\n",
        "        if premise in facts:\n",
        "            conclusions.append(conclusion)\n",
        "    return conclusions\n",
        "\n",
        "conclusions = modus_ponens(rules, facts)\n",
        "print(\"Conclusions:\", conclusions)"
      ],
      "metadata": {
        "colab": {
          "base_uri": "https://localhost:8080/"
        },
        "id": "b7YuGN10XhDf",
        "outputId": "ee2a9dba-e3c6-4816-acb9-07dee9041ebe"
      },
      "execution_count": null,
      "outputs": [
        {
          "output_type": "stream",
          "name": "stdout",
          "text": [
            "Conclusions: ['Y']\n"
          ]
        }
      ]
    },
    {
      "cell_type": "markdown",
      "source": [
        "**2. Create a list of rules and facts in Python. Implement a function to apply Modus Ponens and deduce conclusions.**"
      ],
      "metadata": {
        "id": "MSvwdhmTXChs"
      }
    },
    {
      "cell_type": "markdown",
      "source": [
        "1. Define a list of rules as tuples where each rule is (X, Y) meaning \"If X is true, then Y is true.\"\n",
        "\n",
        "2. Define a list of known facts.\n",
        "\n",
        "3. Create a function that:\n",
        " - Iterates over the rules.\n",
        " - Checks if the premise (X) of the rule is in the list of facts.\n",
        " - If true, it adds the conclusion (Y) to the list of facts.\n",
        "Return the deduced conclusions."
      ],
      "metadata": {
        "id": "Fx-z5Xz2YXcT"
      }
    },
    {
      "cell_type": "markdown",
      "source": [
        "Modus Ponens:\n",
        "\n",
        "- Rule: X→Y\n",
        "\n",
        "- Fact: X\n",
        "\n",
        "- Conclusion: Y"
      ],
      "metadata": {
        "id": "n1uC7tjUY5Eg"
      }
    },
    {
      "cell_type": "code",
      "source": [
        "def apply_modus_ponens(rules, facts):\n",
        "    conclusions = set()\n",
        "    new_facts = facts.copy()\n",
        "\n",
        "    added_facts = True\n",
        "    while added_facts:\n",
        "        added_facts = False\n",
        "\n",
        "        for premise, conclusion in rules:\n",
        "            if premise in new_facts and conclusion not in new_facts:\n",
        "                conclusions.add(conclusion)\n",
        "                new_facts.add(conclusion)\n",
        "                added_facts = True\n",
        "    return conclusions\n",
        "\n",
        "rules = [\n",
        "    (\"Rain\", \"WetGround\"),\n",
        "    (\"WetGround\", \"NoMatchLight\"),\n",
        "    (\"Study\", \"PassExam\"),\n",
        "    (\"PassExam\", \"GetJob\")\n",
        "]\n",
        "\n",
        "facts = {\"Rain\", \"Study\"}\n",
        "\n",
        "\n",
        "# Apply Modus Ponens to deduce conclusions\n",
        "deduced_conclusions = apply_modus_ponens(rules, facts)\n",
        "\n",
        "print(\"Initial Facts:\", facts)\n",
        "print(\"Deduced Conclusions:\", deduced_conclusions)"
      ],
      "metadata": {
        "colab": {
          "base_uri": "https://localhost:8080/"
        },
        "id": "vRRRgDs-ZaUO",
        "outputId": "6dd0352a-4cdc-4e1e-bad9-78695ced1280"
      },
      "execution_count": null,
      "outputs": [
        {
          "output_type": "stream",
          "name": "stdout",
          "text": [
            "Initial Facts: {'Study', 'Rain'}\n",
            "Deduced Conclusions: {'NoMatchLight', 'PassExam', 'GetJob', 'WetGround'}\n"
          ]
        }
      ]
    },
    {
      "cell_type": "markdown",
      "source": [
        "# **Exercise 4: Hands-on Lab - Implementing a Logic-Based Model in Python**\n",
        "\n",
        "**1. Model the Scenario**"
      ],
      "metadata": {
        "id": "3u8QFTH5Ztft"
      }
    },
    {
      "cell_type": "markdown",
      "source": [
        "- \"If a person is hungry, they will eat.\"\n",
        "\n",
        "   Hungry→Eat\n",
        "\n",
        "- \"If a person eats, they will no longer be hungry.\"\n",
        "\n",
        "   Eat→¬Hungry\n",
        "\n",
        "- \"John is hungry.\"\n",
        "\n",
        "   Hungry"
      ],
      "metadata": {
        "id": "HmwkfSr0aHbF"
      }
    },
    {
      "cell_type": "markdown",
      "source": [
        "**2. Use propositional logic to represent the rules and implement the reasoning process that determines when “John will no longer be hungry”**"
      ],
      "metadata": {
        "id": "bqiOYcY5ahWK"
      }
    },
    {
      "cell_type": "code",
      "source": [
        "def is_hungry(person):\n",
        "    return person == \"John\"\n",
        "\n",
        "def will_eat(person):\n",
        "    return is_hungry(person)\n",
        "\n",
        "def no_longer_hungry(person):\n",
        "    return will_eat(person)\n",
        "\n",
        "def reasoning_process(person):\n",
        "    if is_hungry(person):\n",
        "        print(f\"{person} is hungry.\")\n",
        "        if will_eat(person):\n",
        "            print(f\"{person} will eat.\")\n",
        "            if no_longer_hungry(person):\n",
        "                print(f\"{person} is no longer hungry.\")\n",
        "    else:\n",
        "        print(f\"{person} is not hungry.\")\n",
        "\n",
        "if __name__ == \"__main__\":\n",
        "    reasoning_process(\"John\")"
      ],
      "metadata": {
        "colab": {
          "base_uri": "https://localhost:8080/"
        },
        "id": "jlyajLhja36R",
        "outputId": "f1741be7-0962-4f3c-9e19-76297f7c93c3"
      },
      "execution_count": null,
      "outputs": [
        {
          "output_type": "stream",
          "name": "stdout",
          "text": [
            "John is hungry.\n",
            "John will eat.\n",
            "John is no longer hungry.\n"
          ]
        }
      ]
    },
    {
      "cell_type": "markdown",
      "source": [
        "# **Case Study Discussion**\n"
      ],
      "metadata": {
        "id": "vxdvUvmSn2Pk"
      }
    },
    {
      "cell_type": "markdown",
      "source": [
        " **1. Study an AI system that uses logic-based reasoning (e.g., expert systems, chatbots)**"
      ],
      "metadata": {
        "id": "f4d8izgHoK_D"
      }
    },
    {
      "cell_type": "markdown",
      "source": [
        "AI system that uses logic-based reasoning:\n",
        "\n",
        "**Automated Legal Reasoning System**.\n",
        "\n",
        "  - designed to help legal professionals analyze cases by using formal logic to assess legal rules and facts. These systems take legal statutes, case laws, and facts as inputs, applying logic to suggest verdicts or legal outcomes. A well-known example is the COLIEE (Competition on Legal Information Extraction/Entailment) system, which uses logical models to assess legal judgments and decisions.\n",
        "\n",
        "  \n"
      ],
      "metadata": {
        "id": "ccSc6gp0otQZ"
      }
    },
    {
      "cell_type": "markdown",
      "source": [
        "**2. Discuss how propositional or predicate logic is applied in such systems.**\n"
      ],
      "metadata": {
        "id": "kMNOqH_arWKJ"
      }
    },
    {
      "cell_type": "markdown",
      "source": [
        "In legal reasoning, predicate logic is crucial. For instance, the system might use predicates such as Law(X, Y) meaning \"Law X applies to situation Y.\" It applies rules like \"If a contract is signed by both parties and is legally binding, then it is enforceable.\" Predicate logic helps map legal terms to conditions and variables, enabling the system to evaluate whether certain laws apply to specific cases. Propositional logic can also simplify statements, such as \"If the defendant was at the scene and had a motive, then guilt is possible.\""
      ],
      "metadata": {
        "id": "GNbJ0yD2tm6R"
      }
    },
    {
      "cell_type": "markdown",
      "source": [
        "**3. Reflect on the advantages and challenges of using logic-based models in real-world applications.**"
      ],
      "metadata": {
        "id": "tkzxFuZxrf-y"
      }
    },
    {
      "cell_type": "markdown",
      "source": [
        "**Advantages:**\n",
        "\n",
        "- Precise and Consistent:\n",
        " Logic-based systems provide legally consistent judgments, as they strictly follow encoded laws without bias or human error.\n",
        "\n",
        "- Time-Saving: Legal experts can automate repetitive tasks like case law comparison or contract verification, allowing them to focus on more complex issues.\n",
        "\n",
        "**Challenges:**\n",
        "\n",
        "- Difficulty in Handling Ambiguity: Legal language can be vague or open to interpretation, which is difficult for logic-based models to handle, especially when laws conflict or need context.\n",
        "\n",
        "- Dependency on Comprehensive Rule Sets: ALRS requires a complete and up-to-date rule base of laws, which is a challenge due to the evolving nature of legal systems across jurisdictions."
      ],
      "metadata": {
        "id": "rnbkSgeHtrFe"
      }
    },
    {
      "cell_type": "markdown",
      "source": [
        "* **References:**"
      ],
      "metadata": {
        "id": "d7825Ph7uH8A"
      }
    },
    {
      "cell_type": "markdown",
      "source": [
        "https://www.sciencedirect.com/journal/expert-systems-with-applications\n",
        "\n",
        "https://www.simplilearn.com/tutorials/artificial-intelligence-tutorial/what-are-expert-systems-in-ai\n",
        "\n",
        "https://www.intelligentautomation.network/decision-ai/articles/a-quick-guide-to-expert-systems"
      ],
      "metadata": {
        "id": "yNtiulPLuNAH"
      }
    }
  ]
}
