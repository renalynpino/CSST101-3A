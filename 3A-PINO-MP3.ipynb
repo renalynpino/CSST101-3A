{
  "nbformat": 4,
  "nbformat_minor": 0,
  "metadata": {
    "colab": {
      "provenance": []
    },
    "kernelspec": {
      "name": "python3",
      "display_name": "Python 3"
    },
    "language_info": {
      "name": "python"
    }
  },
  "cells": [
    {
      "cell_type": "markdown",
      "source": [
        "# **Machine Problem: Interactive Probability and Decision-Making in AI**"
      ],
      "metadata": {
        "id": "UqVlGsua9U8e"
      }
    },
    {
      "cell_type": "markdown",
      "source": [
        "#**Part 1: Implement Basic Probability Calculations**\n",
        "\n",
        "\n"
      ],
      "metadata": {
        "id": "KMJ9UqfH9Yul"
      }
    },
    {
      "cell_type": "markdown",
      "source": [
        "**1. Task: Write Python functions to calculate the following:**`\n",
        "\n",
        "   - **Joint Probability**"
      ],
      "metadata": {
        "id": "dKOFM3Yn9l57"
      }
    },
    {
      "cell_type": "code",
      "source": [
        "def joint_probability(p_a, p_b):\n",
        "    return p_a * p_b"
      ],
      "metadata": {
        "id": "2u223sHgeHoS"
      },
      "execution_count": null,
      "outputs": []
    },
    {
      "cell_type": "markdown",
      "source": [
        "  - **Marginal Probability**"
      ],
      "metadata": {
        "id": "fsjz05eoeIlK"
      }
    },
    {
      "cell_type": "code",
      "source": [
        "def marginal_probability(p_a_given_b, p_b):\n",
        "    return p_a_given_b * p_b"
      ],
      "metadata": {
        "id": "RGie_MtueMuP"
      },
      "execution_count": null,
      "outputs": []
    },
    {
      "cell_type": "markdown",
      "source": [
        "  - **Conditional Probability**"
      ],
      "metadata": {
        "id": "1AFFHBlPeNnN"
      }
    },
    {
      "cell_type": "code",
      "source": [
        "def conditional_probability(p_a_and_b, p_b):\n",
        "    return p_a_and_b / p_b"
      ],
      "metadata": {
        "id": "CMc8BBWgeSZO"
      },
      "execution_count": null,
      "outputs": []
    },
    {
      "cell_type": "markdown",
      "source": [
        "**2. Interactive Component:**\n"
      ],
      "metadata": {
        "id": "oaKKlZrB91E5"
      }
    },
    {
      "cell_type": "code",
      "source": [
        "def main():\n",
        "    p_a = float(input(\"Enter the probability of event A: \"))\n",
        "    p_b = float(input(\"Enter the probability of event B: \"))\n",
        "    p_b_given_a = float(input(\"Enter the probability of B given A: \"))\n",
        "\n",
        "    joint_prob = joint_probability(p_a, p_b)\n",
        "    print(f\"\\nJoint probability: {joint_prob}\")\n",
        "\n",
        "    marginal_prob = marginal_probability(p_b_given_a, p_a)\n",
        "    print(f\"\\nMarginal probability: {marginal_prob}\")\n",
        "\n",
        "    cond_prob = conditional_probability(joint_prob, p_b)\n",
        "    print(f\"\\nConditional probability: {cond_prob}\")\n",
        "\n",
        "main()"
      ],
      "metadata": {
        "colab": {
          "base_uri": "https://localhost:8080/"
        },
        "id": "n-MZdo2PO183",
        "outputId": "88799d14-5457-484b-e993-baed23561891"
      },
      "execution_count": null,
      "outputs": [
        {
          "output_type": "stream",
          "name": "stdout",
          "text": [
            "Enter the probability of event A: 0.3\n",
            "Enter the probability of event B: 0.4\n",
            "Enter the probability of B given A: 0.8\n",
            "\n",
            "Joint probability: 0.12\n",
            "\n",
            "Marginal probability: 0.24\n",
            "\n",
            "Conditional probability: 0.3\n"
          ]
        }
      ]
    },
    {
      "cell_type": "markdown",
      "source": [
        "# **Part 2: Bayesian Inference for Real-World Scenarios**"
      ],
      "metadata": {
        "id": "ij1tRu5d-Gxe"
      }
    },
    {
      "cell_type": "markdown",
      "source": [
        "**1. Task: Implement a Python function that uses Bayesian inference to update probabilities based on new evidence.**"
      ],
      "metadata": {
        "id": "DKcWAZ4O-7F3"
      }
    },
    {
      "cell_type": "code",
      "source": [
        "def bayesian_inference(p_prior, p_pos_given_disease, p_pos):\n",
        "    return (p_pos_given_disease * p_prior) / p_pos"
      ],
      "metadata": {
        "id": "c3x5V9n-lmjp"
      },
      "execution_count": null,
      "outputs": []
    },
    {
      "cell_type": "markdown",
      "source": [
        "**2. Interactive Component:**"
      ],
      "metadata": {
        "id": "zBk_JmUx_cYz"
      }
    },
    {
      "cell_type": "code",
      "source": [
        "p_prior = float(input(\"Enter the prior probability of disease: \"))\n",
        "p_pos_given_disease = float(input(\"Enter the likelihood of a positive test given disease: \"))\n",
        "p_pos = float(input(\"Enter the overall probability of a positive test: \"))\n",
        "\n",
        "posterior_prob = bayesian_inference(p_prior, p_pos_given_disease, p_pos)\n",
        "\n",
        "print(f\"\\nPosterior probability of disease given positive test: {posterior_prob:.4f}\")"
      ],
      "metadata": {
        "id": "AyUXvf5tN6t2",
        "colab": {
          "base_uri": "https://localhost:8080/"
        },
        "outputId": "5ec88040-7da7-45c1-faf6-c98c65423560"
      },
      "execution_count": null,
      "outputs": [
        {
          "output_type": "stream",
          "name": "stdout",
          "text": [
            "Enter the prior probability of disease: 0.1\n",
            "Enter the likelihood of a positive test given disease: 0.9\n",
            "Enter the overall probability of a positive test: 0.5\n",
            "\n",
            "Posterior probability of disease given positive test: 0.1800\n"
          ]
        }
      ]
    },
    {
      "cell_type": "markdown",
      "source": [
        "# **Part 3: Simulate Decision-Making Under Uncertainty**"
      ],
      "metadata": {
        "id": "O65VEvq6ABz_"
      }
    },
    {
      "cell_type": "markdown",
      "source": [
        "**1. Task: Write a Python function to simulate a decision-making process where outcomes are uncertain (e.g., investment decisions). Use a probability distribution to model the decision’s potential outcomes.**"
      ],
      "metadata": {
        "id": "HHPzn2VgADIV"
      }
    },
    {
      "cell_type": "code",
      "source": [
        "import numpy as np\n",
        "\n",
        "def simulate_decision(prob_success, reward, penalty, trials):\n",
        "    results = []\n",
        "    for _ in range(trials):\n",
        "        if np.random.rand() < prob_success:\n",
        "            results.append(reward)\n",
        "        else:\n",
        "            results.append(penalty)\n",
        "    return np.mean(results)"
      ],
      "metadata": {
        "id": "vJ16J6EUl0gh"
      },
      "execution_count": null,
      "outputs": []
    },
    {
      "cell_type": "markdown",
      "source": [
        "**2. Interactive Component:**"
      ],
      "metadata": {
        "id": "7OPnbW2PAHwm"
      }
    },
    {
      "cell_type": "code",
      "source": [
        "def simulate_decision(prob_success, reward, penalty, trials):\n",
        "    return (prob_success * reward - (1 - prob_success) * penalty) * trials\n",
        "\n",
        "prob_success = float(input(\"Enter the probability of success: \"))\n",
        "reward = float(input(\"Enter the reward for success: \"))\n",
        "penalty = float(input(\"Enter the penalty for failure: \"))\n",
        "trials = int(input(\"Enter the number of trials: \"))\n",
        "\n",
        "average_return = simulate_decision(prob_success, reward, penalty, trials)\n",
        "print(f\"\\nAverage return after {trials} trials: {average_return}\")"
      ],
      "metadata": {
        "id": "59JXIbt_OzYv",
        "colab": {
          "base_uri": "https://localhost:8080/"
        },
        "outputId": "e671bdab-61f7-4538-ef2e-adbcf38be386"
      },
      "execution_count": null,
      "outputs": [
        {
          "output_type": "stream",
          "name": "stdout",
          "text": [
            "Enter the probability of success: 0.7\n",
            "Enter the reward for success: 100\n",
            "Enter the penalty for failure: -500\n",
            "Enter the number of trials: 50\n",
            "\n",
            "Average return after 50 trials: 11000.000000000002\n"
          ]
        }
      ]
    },
    {
      "cell_type": "markdown",
      "source": [
        "# **Part 4: Visualize Probability Distributions**"
      ],
      "metadata": {
        "id": "6MBM9yGIAZPq"
      }
    },
    {
      "cell_type": "markdown",
      "source": [
        "**1. Task: Use Python to generate and visualize binomial and normal probability distributions. The visualizations should represent real-world scenarios like coin flips or dice rolls.**"
      ],
      "metadata": {
        "id": "gmWmXOV_AbNB"
      }
    },
    {
      "cell_type": "code",
      "source": [
        "import matplotlib.pyplot as plt\n",
        "import numpy as np\n",
        "from scipy.stats import binom, norm\n",
        "\n",
        "def visualize_binomial(n, p):\n",
        "    x = np.arange(0, n+1)\n",
        "    binom_dist = binom.pmf(x, n, p)\n",
        "    plt.bar(x, binom_dist)\n",
        "    plt.title(\"Binomial Distribution (Coin Flips)\")\n",
        "    plt.xlabel(\"Number of Heads (Successes)\")\n",
        "    plt.ylabel(\"Probability\")\n",
        "    plt.show()\n",
        "\n",
        "def visualize_normal(mean, std):\n",
        "    x = np.linspace(mean - 4*std, mean + 4*std, 1000)\n",
        "    normal_dist = norm.pdf(x, mean, std)\n",
        "    plt.plot(x, normal_dist)\n",
        "    plt.title(\"Normal Distribution (Exam Scores)\")\n",
        "    plt.xlabel(\"Score\")\n",
        "    plt.ylabel(\"Probability Density\")\n",
        "    plt.show()"
      ],
      "metadata": {
        "id": "_s22u2tcm0TH"
      },
      "execution_count": null,
      "outputs": []
    },
    {
      "cell_type": "markdown",
      "source": [
        "**2. Interactive Component:**"
      ],
      "metadata": {
        "id": "9LMsA6zaAjVA"
      }
    },
    {
      "cell_type": "code",
      "source": [
        "print(\"Choose a distribution to simulate:\\n1. Binomial (Coin flips)\\n2. Normal (Exam scores)\\n\")\n",
        "\n",
        "dist_choice = input(\"Enter 1 for Binomial or 2 for Normal: \")\n",
        "\n",
        "if dist_choice == \"1\":\n",
        "    print(\"\\nYou selected: Binomial (Coin flips)\\n\")\n",
        "    n = int(input(\"Enter the number of trials: \"))\n",
        "    p = float(input(\"Enter the probability of heads (success): \"))\n",
        "    print()\n",
        "    visualize_binomial(n, p)\n",
        "\n",
        "elif dist_choice == \"2\":\n",
        "    print(\"\\nYou selected: Normal (Exam scores)\\n\")\n",
        "    mean = float(input(\"Enter the mean score: \"))\n",
        "    std = float(input(\"Enter the standard deviation of the scores: \"))\n",
        "    print()\n",
        "    visualize_normal(mean, std)\n",
        "\n",
        "else:\n",
        "    print(\"\\nInvalid choice! Please enter 1 for Binomial or 2 for Normal.\")"
      ],
      "metadata": {
        "id": "T3OU2GuhRNa7",
        "colab": {
          "base_uri": "https://localhost:8080/",
          "height": 675
        },
        "outputId": "16c6e716-2a71-4189-ad78-9e2a289d3524"
      },
      "execution_count": null,
      "outputs": [
        {
          "output_type": "stream",
          "name": "stdout",
          "text": [
            "Choose a distribution to simulate:\n",
            "1. Binomial (Coin flips)\n",
            "2. Normal (Exam scores)\n",
            "\n",
            "Enter 1 for Binomial or 2 for Normal: 1\n",
            "\n",
            "You selected: Binomial (Coin flips)\n",
            "\n",
            "Enter the number of trials: 1000\n",
            "Enter the probability of heads (success): 0.5\n",
            "\n"
          ]
        },
        {
          "output_type": "display_data",
          "data": {
            "text/plain": [
              "<Figure size 640x480 with 1 Axes>"
            ],
            "image/png": "[encoded data removed]"
          },
          "metadata": {}
        }
      ]
    },
    {
      "cell_type": "markdown",
      "source": [
        "# **Part 5: Real-World Scenario Prediction**"
      ],
      "metadata": {
        "id": "0P8rEltOAqIf"
      }
    },
    {
      "cell_type": "markdown",
      "source": [
        "**1. Task: Write a Python script that uses conditional probability to predict a real- world event. The scenario should involve predicting the probability of rain based on inputs like humidity and cloud cover.**\n"
      ],
      "metadata": {
        "id": "GpBUZtq1AreY"
      }
    },
    {
      "cell_type": "code",
      "source": [
        "def rain_prediction(humidity_level, cloud_cover_level):\n",
        "    p_humidity = humidity_level\n",
        "    p_cloud = cloud_cover_level\n",
        "\n",
        "    p_rain = 0.3\n",
        "    p_humidity_given_rain = 0.8\n",
        "    p_cloud_given_rain = 0.7\n",
        "\n",
        "    return (p_humidity_given_rain * p_cloud_given_rain * p_rain) / (p_humidity * p_cloud)"
      ],
      "metadata": {
        "id": "spo7_guVqf8Q"
      },
      "execution_count": 2,
      "outputs": []
    },
    {
      "cell_type": "markdown",
      "source": [
        "**2. Interactive Component:**"
      ],
      "metadata": {
        "id": "JFSgcv_0Aw0Y"
      }
    },
    {
      "cell_type": "code",
      "source": [
        "humidity_level = float(input(\"Enter the humidity level (0 to 1): \"))\n",
        "cloud_cover_level = float(input(\"Enter the cloud cover level (0 to 1): \"))\n",
        "\n",
        "rain_prob = rain_prediction(humidity_level, cloud_cover_level)\n",
        "print(f\"\\nProbability of rain: {rain_prob:.2f}\")"
      ],
      "metadata": {
        "id": "4aFqPsH5QrmR",
        "colab": {
          "base_uri": "https://localhost:8080/"
        },
        "outputId": "5446d4cc-b0e9-4765-90f6-0e846931f347"
      },
      "execution_count": 3,
      "outputs": [
        {
          "output_type": "stream",
          "name": "stdout",
          "text": [
            "Enter the humidity level (0 to 1): 0.5\n",
            "Enter the cloud cover level (0 to 1): 0.6\n",
            "\n",
            "Probability of rain: 0.56\n"
          ]
        }
      ]
    }
  ]
}