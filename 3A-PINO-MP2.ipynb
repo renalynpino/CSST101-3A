{
  "nbformat": 4,
  "nbformat_minor": 0,
  "metadata": {
    "colab": {
      "provenance": []
    },
    "kernelspec": {
      "name": "python3",
      "display_name": "Python 3"
    },
    "language_info": {
      "name": "python"
    }
  },
  "cells": [
    {
      "cell_type": "markdown",
      "source": [
        "#1. Propositional Logic Operations\n",
        "\n",
        "\n",
        "\n",
        "*  **Write Python Functions**\n",
        "\n"
      ],
      "metadata": {
        "id": "wYv7qM29m3DX"
      }
    },
    {
      "cell_type": "code",
      "source": [
        "def and_operation(a, b):\n",
        "    return a and b\n",
        "\n",
        "def or_operation(a, b):\n",
        "    return a or b\n",
        "\n",
        "def not_operation(a):\n",
        "    return not a\n",
        "\n",
        "def implies_operation(a, b):\n",
        "    # In logic, implication A -> B is False only when A is True and B is False\n",
        "    return not a or b\n",
        "\n",
        "\n",
        "print(and_operation(True, False))  # Expected: False\n",
        "print(or_operation(True, False))   # Expected: True\n",
        "print(not_operation(True))         # Expected: False\n",
        "print(implies_operation(True, False))  # Expected: False"
      ],
      "metadata": {
        "colab": {
          "base_uri": "https://localhost:8080/"
        },
        "id": "PNJPV951nDSg",
        "outputId": "23dc68d5-fdd0-4e31-abff-e12a53ac692d"
      },
      "execution_count": 10,
      "outputs": [
        {
          "output_type": "stream",
          "name": "stdout",
          "text": [
            "False\n",
            "True\n",
            "False\n",
            "False\n"
          ]
        }
      ]
    },
    {
      "cell_type": "markdown",
      "source": [
        "#2. Evaluate Logical Statements\n",
        "\n",
        "\n",
        "*   **Create an Evaluation Function**\n"
      ],
      "metadata": {
        "id": "c_uvkQNXnJqU"
      }
    },
    {
      "cell_type": "code",
      "source": [
        "def evaluate(statement, values):\n",
        "    statement = statement.replace('and', ' and ').replace('or', ' or ').replace('not', ' not ').replace('=>', ' or not ')\n",
        "    for var, val in values.items():\n",
        "        statement = statement.replace(var, str(val))\n",
        "    return eval(statement)\n",
        "\n",
        "\n",
        "\n",
        "print(evaluate('A and B', {'A': True, 'B': False}))  # Expected: False\n",
        "print(evaluate('A or B', {'A': True, 'B': False}))   # Expected: True\n",
        "print(evaluate('not A', {'A': True}))                 # Expected: False\n",
        "print(evaluate('A => B', {'A': True, 'B': False}))    # Expected: False"
      ],
      "metadata": {
        "colab": {
          "base_uri": "https://localhost:8080/"
        },
        "id": "eKH50Y8-nlot",
        "outputId": "7663a3d8-1b0a-442f-f818-c98a5f266949"
      },
      "execution_count": 12,
      "outputs": [
        {
          "output_type": "stream",
          "name": "stdout",
          "text": [
            "False\n",
            "True\n",
            "False\n",
            "True\n"
          ]
        }
      ]
    },
    {
      "cell_type": "markdown",
      "source": [
        "#3. Extend to Predicate Logic\n",
        "\n",
        "\n",
        "\n",
        "*   **Support for Quantifiers**\n",
        "\n"
      ],
      "metadata": {
        "id": "ghuzTCrgo7_C"
      }
    },
    {
      "cell_type": "code",
      "source": [
        "def forall(predicate, domain):\n",
        "    return all(predicate(x) for x in domain)\n",
        "\n",
        "def exists(predicate, domain):\n",
        "    return any(predicate(x) for x in domain)\n",
        "\n",
        "\n",
        "\n",
        "predicate = lambda x: x > 0\n",
        "domain = [1, 2, 3, -1, -2]\n",
        "\n",
        "print(forall(predicate, domain))  # Expected: False (because not all positive)\n",
        "print(exists(predicate, domain))  # Expected: True (because is there are positive numbers)"
      ],
      "metadata": {
        "colab": {
          "base_uri": "https://localhost:8080/"
        },
        "id": "aCF5hIUyp-1S",
        "outputId": "0a94fc55-7868-413a-c350-68c8ac731e75"
      },
      "execution_count": 13,
      "outputs": [
        {
          "output_type": "stream",
          "name": "stdout",
          "text": [
            "False\n",
            "True\n"
          ]
        }
      ]
    },
    {
      "cell_type": "markdown",
      "source": [
        "#4. AI Agent Development\n",
        "\n",
        "\n",
        "*   **Create a Simple AI Agent**\n"
      ],
      "metadata": {
        "id": "rKR2ijmuqJbl"
      }
    },
    {
      "cell_type": "code",
      "source": [
        "class SimpleAIAgent:\n",
        "    def __init__(self):\n",
        "        self.condition = True  # Example condition\n",
        "\n",
        "    def make_decision(self):\n",
        "        if and_operation(self.condition, True):  # Simple logic\n",
        "            return 'Take action A'\n",
        "        else:\n",
        "            return 'Take action B'\n",
        "\n",
        "# Create an AI agent instance\n",
        "agent = SimpleAIAgent()\n",
        "\n",
        "# Make a decision\n",
        "print(agent.make_decision())  # Expected: 'Take action A'"
      ],
      "metadata": {
        "colab": {
          "base_uri": "https://localhost:8080/"
        },
        "id": "SkiHJyc1o_g5",
        "outputId": "a06e8d33-6136-43b1-e467-e61801974d7a"
      },
      "execution_count": 14,
      "outputs": [
        {
          "output_type": "stream",
          "name": "stdout",
          "text": [
            "Take action A\n"
          ]
        }
      ]
    },
    {
      "cell_type": "markdown",
      "source": [
        "* **Defining the Scenario**\n",
        "* **Implementing the Decision Logic**\n",
        "\n"
      ],
      "metadata": {
        "id": "vpKp_ZHNqqZc"
      }
    },
    {
      "cell_type": "code",
      "source": [
        "def and_operation(p, q):\n",
        "    \"\"\"Returns the result of the logical conjunction of p and q.\"\"\"\n",
        "    return p and q\n",
        "\n",
        "def or_operation(p, q):\n",
        "    \"\"\"Returns the result of the logical disjunction of p and q.\"\"\"\n",
        "    return p or q\n",
        "\n",
        "def not_operation(p):\n",
        "    \"\"\"Returns the result of the logical negation of p.\"\"\"\n",
        "    return not p\n",
        "\n",
        "def implies_operation(p, q):\n",
        "    \"\"\"Returns the result of the logical implication from p to q.\"\"\"\n",
        "    return not p or q\n",
        "\n",
        "def evaluate(statement, values):\n",
        "    \"\"\"\n",
        "    Evaluates a logical expression based on the provided truth values.\n",
        "\n",
        "    Args:\n",
        "    statement (str): A logical expression represented as a string.\n",
        "    values (dict): A dictionary that maps propositions to their truth values.\n",
        "\n",
        "    Returns:\n",
        "    bool: The truth value of the evaluated statement.\n",
        "    \"\"\"\n",
        "    statement = statement.replace('and', ' and ').replace('or', ' or ').replace('not', ' not ').replace('=>', ' or not ')\n",
        "    for var, val in values.items():\n",
        "        statement = statement.replace(var, str(val))\n",
        "    return eval(statement)\n",
        "\n",
        "def forall(predicate, domain):\n",
        "    \"\"\"Checks if a predicate holds true for every element in the domain.\"\"\"\n",
        "    return all(predicate(x) for x in domain)\n",
        "\n",
        "def exists(predicate, domain):\n",
        "    \"\"\"Checks if there is at least one element in the domain for which the predicate is true.\"\"\"\n",
        "    return any(predicate(x) for x in domain)\n",
        "\n",
        "class SimpleAIAgent:\n",
        "    def __init__(self):\n",
        "        \"\"\"Initializes the AI agent with a default condition.\"\"\"\n",
        "        self.condition = True  # Example condition\n",
        "\n",
        "    def make_decision(self):\n",
        "        \"\"\"Makes a decision based on the current condition.\"\"\"\n",
        "        if and_operation(self.condition, True):  # Simple logic\n",
        "            return 'Take action A'\n",
        "        else:\n",
        "            return 'Take action B'\n",
        "\n",
        "# Example Usage\n",
        "if __name__ == \"__main__\":\n",
        "    # Testing logic functions\n",
        "    print(and_operation(True, False))  # Expected: False\n",
        "    print(or_operation(True, False))   # Expected: True\n",
        "    print(not_operation(True))          # Expected: False\n",
        "    print(implies_operation(True, False))  # Expected: False\n",
        "\n",
        "    # Testing evaluation function\n",
        "    print(evaluate('A and B', {'A': True, 'B': False}))  # Expected: False\n",
        "    print(evaluate('A or B', {'A': True, 'B': False}))   # Expected: True\n",
        "\n",
        "    # Testing predicate logic\n",
        "    predicate = lambda x: x > 0\n",
        "    domain = [1, 2, 3, -1, -2]\n",
        "    print(forall(predicate, domain))  # Expected: False\n",
        "    print(exists(predicate, domain))  # Expected: True\n",
        "\n",
        "    # AI Agent Decision\n",
        "    agent = SimpleAIAgent()\n",
        "    print(agent.make_decision())  # Expected: 'Take action A'"
      ],
      "metadata": {
        "colab": {
          "base_uri": "https://localhost:8080/"
        },
        "id": "m5VS0p0nrCOE",
        "outputId": "19eb2975-2103-47f6-bf95-d466b0b7fbad"
      },
      "execution_count": 15,
      "outputs": [
        {
          "output_type": "stream",
          "name": "stdout",
          "text": [
            "False\n",
            "True\n",
            "False\n",
            "False\n",
            "False\n",
            "True\n",
            "False\n",
            "True\n",
            "Take action A\n"
          ]
        }
      ]
    }
  ]
}